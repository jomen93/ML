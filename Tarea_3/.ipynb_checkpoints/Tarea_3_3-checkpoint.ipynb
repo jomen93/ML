{
 "cells": [
  {
   "cell_type": "code",
   "execution_count": 23,
   "metadata": {},
   "outputs": [],
   "source": [
    "import numpy as np\n",
    "import matplotlib.pyplot as plt\n",
    "import pandas as pd\n",
    "import seaborn as sns\n",
    "\n",
    "from sklearn.naive_bayes import MultinomialNB, GaussianNB\n",
    "from sklearn.model_selection import train_test_split\n",
    "from sklearn.linear_model.logistic import LogisticRegression\n",
    "\n",
    "import warnings\n",
    "warnings.filterwarnings(\"ignore\")\n",
    "\n",
    "\n",
    "\n"
   ]
  },
  {
   "cell_type": "markdown",
   "metadata": {},
   "source": [
    "## Regresion logística Vs Clasificador Bayesiano ingenuo\n",
    "\n",
    "Compara los métodos de regresión logística y el clasificador bayesiano ingenuo en las siguientes tareas:\n",
    "\n"
   ]
  },
  {
   "cell_type": "markdown",
   "metadata": {},
   "source": [
    "En primer lugar se leen los datos "
   ]
  },
  {
   "cell_type": "code",
   "execution_count": 973,
   "metadata": {},
   "outputs": [
    {
     "name": "stdout",
     "output_type": "stream",
     "text": [
      "Spam\n",
      "Tamaño de datos = (5171, 2000), objetivos = (5171, 1)\n"
     ]
    }
   ],
   "source": [
    "# Lectura de datos Spam\n",
    "\n",
    "# Los datos de spam vienen con tipo de datos que no permiten hacer los\n",
    "# calculos pertinentes para esto se hace arreglos \n",
    "#lectura de datos\n",
    "spam = pd.read_csv(\"spam.csv\")\n",
    "data_spam = spam.to_numpy()\n",
    "\n",
    "# Se hace para poner todos los datos como arrays, vienen compactos los datos\n",
    "x = []\n",
    "for i in range(len(data_spam)): \n",
    "    x.append(np.array([float(i) for i in data_spam[i][0].split()]))\n",
    "x = np.array(x)\n",
    "x = np.random.permutation(x)\n",
    "\n",
    "# Se definen los datos y los objetivos\n",
    "x_data_s = x[:,:-1]\n",
    "x_target_s = x[:,-1:]\n",
    "\n",
    "print(\"Spam\")\n",
    "print(\"Tamaño de datos = {}, objetivos = {}\".format(np.shape(x_data_s),np.shape(x_target_s)))"
   ]
  },
  {
   "cell_type": "code",
   "execution_count": 980,
   "metadata": {},
   "outputs": [
    {
     "name": "stdout",
     "output_type": "stream",
     "text": [
      "Spam\n",
      "Tamaño de datos = (682, 9), objetivos = (682, 1)\n"
     ]
    }
   ],
   "source": [
    "# Lectura datos cancer\n",
    "\n",
    "# Definimos lista con los nombres de las características \n",
    "Names = [\"ID \",\"Grosor del tumor\",\"Uniformidad tamaño\",\n",
    "            \"forma celula\",\"Adhesion marginal\",\"Tamaño celula epitelial\",\n",
    "            \"Nucleos desnudos\",\"Cromatina blanda\",\"Núcleolos normales\",\n",
    "           \"Mitosis de celulas\",\"Clase\"]\n",
    "cancer = pd.read_csv(\"breast-cancer-wisconsin.data\",names = Names)\n",
    "# Eliminamos la columna de ID, no brinda información dado que no se repite\n",
    "cancer = cancer.drop([cancer.columns[0]],axis = 1)\n",
    "data_cancer = cancer.to_numpy()\n",
    "\n",
    "# Para trabajar con uniformidad eliminamos los datos con \"?\" y asi poder comparar los \n",
    "# modelos, el objetivo es poder ver que algoritmo tiene mejor rendimiento \n",
    "\n",
    "index = np.where(data_cancer == \"?\")\n",
    "data_cancer = np.delete(data_cancer,index,axis=0)\n",
    "data_cancer[:,5] = data_cancer[:,5].astype(np.float)\n",
    "data_cancer = data_cancer.astype(np.float)\n",
    "\n",
    "data_cancer = np.random.permutation(data_cancer)\n",
    "\n",
    "\n",
    "\n",
    "x_data_c = data_cancer[:,:-1]\n",
    "x_target_c = data_cancer[:,-1:]\n",
    "\n",
    "print(\"Spam\")\n",
    "print(\"Tamaño de datos = {}, objetivos = {}\".format(np.shape(x_data_c),np.shape(x_target_c)))"
   ]
  },
  {
   "cell_type": "markdown",
   "metadata": {},
   "source": [
    "Hacemos los modelos para cada uno de los problemas\n",
    "\n",
    "* Clasificador de spam"
   ]
  },
  {
   "cell_type": "code",
   "execution_count": 6,
   "metadata": {},
   "outputs": [
    {
     "name": "stdout",
     "output_type": "stream",
     "text": [
      "Rendimiento del modelo Naive Bayes = 0.952\n",
      "Rendimiento del modelo Regresión Logistica = 0.968\n"
     ]
    }
   ],
   "source": [
    "# Clasificacion de spam\n",
    "\n",
    "X_trainNBs, X_testNBs, Y_trainNBs,Y_testNBs = train_test_split(x_data_s,x_target_s,test_size = 0.3)\n",
    "# Modelo Bayesiano ingenuo\n",
    "spam_model_NB = MultinomialNB(alpha = 1e-10, class_prior = None, fit_prior=False)\n",
    "spam_model_NB.fit(X_trainNBs,np.ravel(Y_trainNBs))\n",
    "print(\"Rendimiento del modelo Naive Bayes = {:.3f}\".format(spam_model_NB.score(X_testNBs,Y_testNBs)))\n",
    "pred_prob_NB = spam_model_NB.predict(X_testNBs[1:2])\n",
    "\n",
    "# Modelo de regresión logística\n",
    "X_trainLRs, X_testLRs, Y_trainLRs,Y_testLRs = train_test_split(x_data_s,x_target_s,test_size = 0.3)\n",
    "spam_model_LR = LogisticRegression(random_state=0,solver= \"newton-cg\")\n",
    "spam_model_LR.fit(X_trainLRs,np.ravel(Y_trainLRs))\n",
    "print(\"Rendimiento del modelo Regresión Logistica = {:.3f}\".format(spam_model_LR.score(X_testLRs,Y_testLRs)))\n",
    "pred_prob_LR = spam_model_LR.predict(X_testLRs[1:2])\n"
   ]
  },
  {
   "cell_type": "markdown",
   "metadata": {},
   "source": [
    "* Clasificador de tumores de Seno "
   ]
  },
  {
   "cell_type": "code",
   "execution_count": 7,
   "metadata": {},
   "outputs": [
    {
     "name": "stdout",
     "output_type": "stream",
     "text": [
      "Rendimiento del modelo Naive Bayes = 0.942\n",
      "Rendimiento del modelo Naive Bayes = 0.964\n"
     ]
    }
   ],
   "source": [
    "#Clasificacion de tumores de Seno\n",
    "\n",
    "# Modelo Bayesiano ingenuo\n",
    "X_trainNBc, X_testNBc, Y_trainNBc,Y_testNBc = train_test_split(x_data_c,x_target_c,test_size = 0.2)\n",
    "cancer_model_G = GaussianNB()\n",
    "cancer_model_G.fit(X_trainNBc,np.ravel(Y_trainNBc))\n",
    "print(\"Rendimiento del modelo Naive Bayes = {:.3f}\".format(cancer_model_G.score(X_testNBc,Y_testNBc)))\n",
    "pred_prob_G = cancer_model_G.predict(X_testNBc[1:2])\n",
    "\n",
    "#Modelo de regresion Logistica\n",
    "X_trainLRc, X_testLRc, Y_trainLRc,Y_testLRc = train_test_split(x_data_c,x_target_c,test_size = 0.2)\n",
    "cancer_model_G = LogisticRegression(random_state=0,solver= \"liblinear\")\n",
    "cancer_model_G.fit(X_trainLRc,np.ravel(Y_trainLRc))\n",
    "print(\"Rendimiento del modelo Naive Bayes = {:.3f}\".format(cancer_model_G.score(X_testLRc,Y_testLRc)))\n",
    "pred_prob_G = cancer_model_G.predict(X_testLRc[1:2])\n"
   ]
  },
  {
   "cell_type": "markdown",
   "metadata": {},
   "source": [
    "Se hace la implementación de el modelo de scikit learn en el caso de regresión logistica para tener una refencia y comparar el modelo que se va a construir y ver si dista mucho del modelo ya programado correctamente"
   ]
  },
  {
   "cell_type": "code",
   "execution_count": 943,
   "metadata": {},
   "outputs": [],
   "source": [
    "class LogisticR(object):\n",
    "    \n",
    "    def __init__(self, η = 0.01 , MaxIter = 100, intercept = True ,Error = False):\n",
    "        self.η = η\n",
    "        self.MaxIter = MaxIter\n",
    "        self.intercept = intercept\n",
    "        self.Error = Error\n",
    "        #self.l = l\n",
    "    # Consideracion del punto de corte, añadir los unos a la matriz de diseño\n",
    "    def Intercept(self,x):\n",
    "        unos = np.ones((np.shape(x)[0],1))\n",
    "        Phi = np.concatenate((unos,x),axis = 1)\n",
    "        return Phi\n",
    "    \n",
    "    # Definición de la f uncion sigmoide\n",
    "    def sigmoid(self,x):\n",
    "        return 1/(1+np.exp(-x))\n",
    "    \n",
    "    def Loss(self,h,y):\n",
    "        #return np.mean(-y*np.log(h)-(1-y)*np.log(1-h))\n",
    "        return np.sum((y-h)**2)/len(y)\n",
    "        \n",
    "    # Definicion del ajuste\n",
    "    def fit(self,x,y):\n",
    "        if self.intercept == True:\n",
    "            x = self.Intercept(x)\n",
    "            \n",
    "        # Inicializacion aleatoria de los pesos \n",
    "        #self.w = np.random.uniform(0,1,(1,np.shape(x)[1])).T\n",
    "        self.w = np.zeros((1,np.shape(x)[1])).T\n",
    "        if self.Error == True:\n",
    "            self.l = np.zeros(self.MaxIter)\n",
    "        \n",
    "        # Ciclo de optimización de los parámetros \n",
    "        for i in range(self.MaxIter):\n",
    "            z = np.dot(x, self.w)\n",
    "            h = sigmoid(z)\n",
    "            g = np.dot(x.T, (h - y)) / y.shape[0]\n",
    "            self.w = self.w -η*g\n",
    "            \n",
    "            if self.Error == True :\n",
    "                z = np.dot(x, self.w)\n",
    "                h = sigmoid(z)\n",
    "                self.l[i] = self.Loss(h,y)\n",
    "            \n",
    "    # Definicion del calculo de la probabilidad\n",
    "    def predict_probs(self, x):\n",
    "            if self.intercept == True:\n",
    "                return self.sigmoid(np.dot(x, self.w[1:]))\n",
    "    \n",
    "    #discriminacion\n",
    "    def predict(self, x, umbral = 0.5):\n",
    "            return self.predict_probs(x) >= umbral\n",
    "        \n",
    "    def score(self,x,y):\n",
    "        return sum(self.predict(x) == y)/np.shape(y)[0]\n",
    "    \n",
    "    def plot_error(self):\n",
    "        plt.plot(self.l,\"b.\",label = \"Error = \"+str(round(self.l[-1],4)))\n",
    "        plt.grid(True)\n",
    "        plt.xlabel(\"Pasos\")\n",
    "        plt.ylabel(\"Error\")\n",
    "        plt.title(\"Disminución del error\")\n",
    "        plt.legend(fancybox = True,shadow = True,borderpad = 1)\n",
    "        \n",
    "\n",
    "\n",
    "\n",
    "\n"
   ]
  },
  {
   "cell_type": "markdown",
   "metadata": {},
   "source": [
    "### Regresión logística para la clasificación de spam \n",
    "\n",
    "Para este modelo se tienen $N = 5171$ datos recopilados y $M = 2000$ características. A continuación debemos considerar dos clases, es o no spam\n",
    "\n",
    "debemos encontrar la actualización de los parámetros del modelo a través de la siguiente expresión \n",
    "\n",
    "$$\\vec{\\omega}^{\\tau+1} = \\vec{\\omega}^{\\tau} - \\eta\\nabla_{\\omega}E(\\vec{\\omega})$$\n"
   ]
  },
  {
   "cell_type": "markdown",
   "metadata": {},
   "source": [
    "Se hace la separacion de los datos para hacer el entrenamiento del modelo"
   ]
  },
  {
   "cell_type": "code",
   "execution_count": 975,
   "metadata": {},
   "outputs": [],
   "source": [
    "# Separación de los datos\n",
    "t = 0.8\n",
    "\n",
    "x_train = x_data_s[0:int(t*len(x_data_s))]\n",
    "x_val = x_data_s[int(t*len(x_data_s)):]\n",
    "\n",
    "y_train = x_target_s[0:int(t*len(x_data_s))]\n",
    "y_val = x_target_s[int(t*len(x_data_s)):]"
   ]
  },
  {
   "cell_type": "markdown",
   "metadata": {},
   "source": [
    "Se construye el modelo para hacer el entrenamiento "
   ]
  },
  {
   "cell_type": "code",
   "execution_count": 976,
   "metadata": {},
   "outputs": [
    {
     "data": {
      "text/plain": [
       "array([0.78743961])"
      ]
     },
     "execution_count": 976,
     "metadata": {},
     "output_type": "execute_result"
    }
   ],
   "source": [
    "model_spam = LogisticR(η = 0.1, MaxIter = 100, Error = True)\n",
    "model_spam.fit(x_train,y_train)\n",
    "model_spam.score(x_val,y_val)"
   ]
  },
  {
   "cell_type": "code",
   "execution_count": 977,
   "metadata": {},
   "outputs": [
    {
     "data": {
      "image/png": "[encoded data removed]",
      "text/plain": [
       "<Figure size 432x288 with 1 Axes>"
      ]
     },
     "metadata": {
      "needs_background": "light"
     },
     "output_type": "display_data"
    }
   ],
   "source": [
    "model_spam.plot_error()"
   ]
  },
  {
   "cell_type": "markdown",
   "metadata": {},
   "source": [
    "### Regresión logística para la clasificación de cancer de Seno"
   ]
  },
  {
   "cell_type": "code",
   "execution_count": 981,
   "metadata": {},
   "outputs": [],
   "source": [
    "# Separación de los datos\n",
    "x_data_c = data_cancer[:,:-1]\n",
    "x_target_c = data_cancer[:,-1:]\n",
    "\n",
    "t = 0.8\n",
    "\n",
    "x_train = x_data_c[0:int(t*len(x_data_c))]\n",
    "x_val = x_data_c[int(t*len(x_data_c)):]\n",
    "\n",
    "y_train = x_target_c[0:int(t*len(x_data_c))]\n",
    "y_val = x_target_c[int(t*len(x_data_c)):]\n",
    "\n",
    "# convertir a unos y ceros los vectores objetivo \n",
    "# 2 ----> no tiene cancer corresponde a 0\n",
    "# 4 ----> tiene cancer corresponde a 1\n",
    "y_train = np.where(y_train == 2,0,1)\n",
    "y_val = np.where(y_val == 2,0,1)\n",
    "\n",
    "\n"
   ]
  },
  {
   "cell_type": "code",
   "execution_count": 982,
   "metadata": {},
   "outputs": [
    {
     "data": {
      "text/plain": [
       "array([0.83941606])"
      ]
     },
     "execution_count": 982,
     "metadata": {},
     "output_type": "execute_result"
    }
   ],
   "source": [
    "model_cancer = LogisticR(η = 0.1,MaxIter= 100,Error = True)\n",
    "model_cancer.fit(x_train,y_train)\n",
    "model_cancer.score(x_val,y_val)"
   ]
  },
  {
   "cell_type": "code",
   "execution_count": 983,
   "metadata": {},
   "outputs": [
    {
     "data": {
      "image/png": "[encoded data removed]",
      "text/plain": [
       "<Figure size 432x288 with 1 Axes>"
      ]
     },
     "metadata": {
      "needs_background": "light"
     },
     "output_type": "display_data"
    }
   ],
   "source": [
    "model_cancer.plot_error()"
   ]
  },
  {
   "cell_type": "code",
   "execution_count": null,
   "metadata": {},
   "outputs": [],
   "source": []
  },
  {
   "cell_type": "code",
   "execution_count": null,
   "metadata": {},
   "outputs": [],
   "source": []
  },
  {
   "cell_type": "code",
   "execution_count": null,
   "metadata": {},
   "outputs": [],
   "source": []
  }
 ],
 "metadata": {
  "kernelspec": {
   "display_name": "Python 3",
   "language": "python",
   "name": "python3"
  },
  "language_info": {
   "codemirror_mode": {
    "name": "ipython",
    "version": 3
   },
   "file_extension": ".py",
   "mimetype": "text/x-python",
   "name": "python",
   "nbconvert_exporter": "python",
   "pygments_lexer": "ipython3",
   "version": "3.7.4"
  }
 },
 "nbformat": 4,
 "nbformat_minor": 4
}
