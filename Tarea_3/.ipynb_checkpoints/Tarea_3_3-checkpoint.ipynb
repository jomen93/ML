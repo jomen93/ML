{
 "cells": [
  {
   "cell_type": "code",
   "execution_count": 23,
   "metadata": {},
   "outputs": [],
   "source": [
    "import numpy as np\n",
    "import matplotlib.pyplot as plt\n",
    "import pandas as pd\n",
    "import seaborn as sns\n",
    "\n",
    "from sklearn.naive_bayes import MultinomialNB, GaussianNB\n",
    "from sklearn.model_selection import train_test_split\n",
    "from sklearn.linear_model.logistic import LogisticRegression\n",
    "\n",
    "import warnings\n",
    "warnings.filterwarnings(\"ignore\")\n",
    "\n",
    "\n",
    "\n"
   ]
  },
  {
   "cell_type": "markdown",
   "metadata": {},
   "source": [
    "## Regresion logística Vs Clasificador Bayesiano ingenuo\n",
    "\n",
    "Compara los métodos de regresión logística y el clasificador bayesiano ingenuo en las siguientes tareas:\n",
    "\n"
   ]
  },
  {
   "cell_type": "markdown",
   "metadata": {},
   "source": [
    "En primer lugar se leen los datos "
   ]
  },
  {
   "cell_type": "code",
   "execution_count": 751,
   "metadata": {},
   "outputs": [
    {
     "name": "stdout",
     "output_type": "stream",
     "text": [
      "Spam\n",
      "Tamaño de datos = (5171, 2000), objetivos = (5171, 1)\n"
     ]
    }
   ],
   "source": [
    "# Lectura de datos Spam\n",
    "\n",
    "# Los datos de spam vienen con tipo de datos que no permiten hacer los\n",
    "# calculos pertinentes para esto se hace arreglos \n",
    "#lectura de datos\n",
    "spam = pd.read_csv(\"spam.csv\")\n",
    "data_spam = spam.to_numpy()\n",
    "\n",
    "# Se hace para poner todos los datos como arrays, vienen compactos los datos\n",
    "x = []\n",
    "for i in range(len(data_spam)): \n",
    "    x.append(np.array([float(i) for i in data_spam[i][0].split()]))\n",
    "x = np.array(x)\n",
    "\n",
    "# Se definen los datos y los objetivos\n",
    "x_data_s = x[:,:-1]\n",
    "x_target_s = x[:,-1:]\n",
    "\n",
    "print(\"Spam\")\n",
    "print(\"Tamaño de datos = {}, objetivos = {}\".format(np.shape(x_data_s),np.shape(x_target_s)))"
   ]
  },
  {
   "cell_type": "code",
   "execution_count": 166,
   "metadata": {},
   "outputs": [
    {
     "name": "stdout",
     "output_type": "stream",
     "text": [
      "Spam\n",
      "Tamaño de datos = (682, 9), objetivos = (682, 1)\n"
     ]
    }
   ],
   "source": [
    "# Lectura datos cancer\n",
    "\n",
    "# Definimos lista con los nombres de las características \n",
    "Names = [\"ID \",\"Grosor del tumor\",\"Uniformidad tamaño\",\n",
    "            \"forma celula\",\"Adhesion marginal\",\"Tamaño celula epitelial\",\n",
    "            \"Nucleos desnudos\",\"Cromatina blanda\",\"Núcleolos normales\",\n",
    "           \"Mitosis de celulas\",\"Clase\"]\n",
    "cancer = pd.read_csv(\"breast-cancer-wisconsin.data\",names = Names)\n",
    "# Eliminamos la columna de ID, no brinda información dado que no se repite\n",
    "cancer = cancer.drop([cancer.columns[0]],axis = 1)\n",
    "data_cancer = cancer.to_numpy()\n",
    "\n",
    "\n",
    "# Para trabajar con uniformidad eliminamos los datos con \"?\" y asi poder comparar los \n",
    "# modelos, el objetivo es poder ver que algoritmo tiene mejor rendimiento \n",
    "\n",
    "index = np.where(data_cancer == \"?\")\n",
    "data_cancer = np.delete(data_cancer,index,axis=0)\n",
    "data_cancer[:,5] = data_cancer[:,5].astype(np.float)\n",
    "data_cancer = data_cancer.astype(np.float)\n",
    "\n",
    "x_data_c = data_cancer[:,:-1]\n",
    "x_target_c = data_cancer[:,-1:]\n",
    "\n",
    "print(\"Spam\")\n",
    "print(\"Tamaño de datos = {}, objetivos = {}\".format(np.shape(x_data_c),np.shape(x_target_c)))"
   ]
  },
  {
   "cell_type": "markdown",
   "metadata": {},
   "source": [
    "Hacemos los modelos para cada uno de los problemas\n",
    "\n",
    "* Clasificador de spam"
   ]
  },
  {
   "cell_type": "code",
   "execution_count": 6,
   "metadata": {},
   "outputs": [
    {
     "name": "stdout",
     "output_type": "stream",
     "text": [
      "Rendimiento del modelo Naive Bayes = 0.952\n",
      "Rendimiento del modelo Regresión Logistica = 0.968\n"
     ]
    }
   ],
   "source": [
    "# Clasificacion de spam\n",
    "\n",
    "X_trainNBs, X_testNBs, Y_trainNBs,Y_testNBs = train_test_split(x_data_s,x_target_s,test_size = 0.3)\n",
    "# Modelo Bayesiano ingenuo\n",
    "spam_model_NB = MultinomialNB(alpha = 1e-10, class_prior = None, fit_prior=False)\n",
    "spam_model_NB.fit(X_trainNBs,np.ravel(Y_trainNBs))\n",
    "print(\"Rendimiento del modelo Naive Bayes = {:.3f}\".format(spam_model_NB.score(X_testNBs,Y_testNBs)))\n",
    "pred_prob_NB = spam_model_NB.predict(X_testNBs[1:2])\n",
    "\n",
    "# Modelo de regresión logística\n",
    "X_trainLRs, X_testLRs, Y_trainLRs,Y_testLRs = train_test_split(x_data_s,x_target_s,test_size = 0.3)\n",
    "spam_model_LR = LogisticRegression(random_state=0,solver= \"newton-cg\")\n",
    "spam_model_LR.fit(X_trainLRs,np.ravel(Y_trainLRs))\n",
    "print(\"Rendimiento del modelo Regresión Logistica = {:.3f}\".format(spam_model_LR.score(X_testLRs,Y_testLRs)))\n",
    "pred_prob_LR = spam_model_LR.predict(X_testLRs[1:2])\n"
   ]
  },
  {
   "cell_type": "markdown",
   "metadata": {},
   "source": [
    "* Clasificador de tumores de Seno "
   ]
  },
  {
   "cell_type": "code",
   "execution_count": 7,
   "metadata": {},
   "outputs": [
    {
     "name": "stdout",
     "output_type": "stream",
     "text": [
      "Rendimiento del modelo Naive Bayes = 0.942\n",
      "Rendimiento del modelo Naive Bayes = 0.964\n"
     ]
    }
   ],
   "source": [
    "#Clasificacion de tumores de Seno\n",
    "\n",
    "# Modelo Bayesiano ingenuo\n",
    "X_trainNBc, X_testNBc, Y_trainNBc,Y_testNBc = train_test_split(x_data_c,x_target_c,test_size = 0.2)\n",
    "cancer_model_G = GaussianNB()\n",
    "cancer_model_G.fit(X_trainNBc,np.ravel(Y_trainNBc))\n",
    "print(\"Rendimiento del modelo Naive Bayes = {:.3f}\".format(cancer_model_G.score(X_testNBc,Y_testNBc)))\n",
    "pred_prob_G = cancer_model_G.predict(X_testNBc[1:2])\n",
    "\n",
    "#Modelo de regresion Logistica\n",
    "X_trainLRc, X_testLRc, Y_trainLRc,Y_testLRc = train_test_split(x_data_c,x_target_c,test_size = 0.2)\n",
    "cancer_model_G = LogisticRegression(random_state=0,solver= \"liblinear\")\n",
    "cancer_model_G.fit(X_trainLRc,np.ravel(Y_trainLRc))\n",
    "print(\"Rendimiento del modelo Naive Bayes = {:.3f}\".format(cancer_model_G.score(X_testLRc,Y_testLRc)))\n",
    "pred_prob_G = cancer_model_G.predict(X_testLRc[1:2])\n"
   ]
  },
  {
   "cell_type": "markdown",
   "metadata": {},
   "source": [
    "Se hace la implementación de el modelo de scikit learn en el caso de regresión logistica para tener una refencia y comparar el modelo que se va a construir y ver si dista mucho del modelo ya programado correctamente"
   ]
  },
  {
   "cell_type": "markdown",
   "metadata": {},
   "source": [
    "### Regresión logística para la clasificación de spam \n",
    "\n",
    "Para este modelo se tienen $N = 5171$ datos recopilados y $M = 2000$ características. A continuación debemos considerar dos clases, es o no spam\n",
    "\n",
    "debemos encontrar la actualización de los parámetros del modelo a través de la siguiente expresión \n",
    "\n",
    "$$\\vec{\\omega}^{\\tau+1} = \\vec{\\omega}^{\\tau} - \\eta\\nabla_{\\omega}E(\\vec{\\omega})$$\n"
   ]
  },
  {
   "cell_type": "markdown",
   "metadata": {},
   "source": [
    "Vamos a escribir la clase que construye el modelo de regresión logística para poder utilizarlo con los dos datos"
   ]
  },
  {
   "cell_type": "code",
   "execution_count": 800,
   "metadata": {},
   "outputs": [],
   "source": [
    "class LogisticR():\n",
    "    \n",
    "    def __init__(self, η = 0.01 , MaxIter = 100, intercept = True ,Error = False):\n",
    "        self.η = η\n",
    "        self.MaxIter = MaxIter\n",
    "        self.intercept = intercept\n",
    "        self.Error = Error\n",
    "        #self.l = l\n",
    "    # Consideracion del punto de corte, añadir los unos a la matriz de diseño\n",
    "    def Intercept(self,x):\n",
    "        unos = np.ones((np.shape(x)[0],1))\n",
    "        Phi = np.concatenate((unos,x),axis = 1)\n",
    "        return Phi\n",
    "    \n",
    "    # Definición de la funcion sigmoide\n",
    "    def sigmoid(self,x):\n",
    "        return 1/(1+np.exp(-x))\n",
    "    \n",
    "    def Loss(self,h,y):\n",
    "        return np.mean(-y*np.log(h)-(1-y)*np.log(1-h))\n",
    "        \n",
    "    # Definicion del ajuste\n",
    "    def fit(self,x,y):\n",
    "        if self.intercept == True:\n",
    "            x = self.Intercept(x)\n",
    "            \n",
    "        # Inicializacion aleatoria de los pesos \n",
    "        self.w = np.random.uniform(0,1,(1,np.shape(x)[1])).T\n",
    "        if self.Error == True:\n",
    "            self.l = np.zeros(self.MaxIter)\n",
    "        \n",
    "        # Ciclo de optimización de los parámetros \n",
    "        for i in range(self.MaxIter):\n",
    "            z = np.dot(x, self.w)\n",
    "            h = sigmoid(z)\n",
    "            g = np.dot(x.T, (h - y)) / y.shape[0]\n",
    "            self.w = self.w -η*g\n",
    "            \n",
    "            if self.Error == True :\n",
    "                z = np.dot(x, self.w)\n",
    "                h = sigmoid(z)\n",
    "                self.l[i] = self.Loss(h,y)\n",
    "                \n",
    "            \n",
    "    # Definicion del calculo de la probabilidad\n",
    "    def predict_probs(self, x):\n",
    "            if self.intercept == True:\n",
    "                return self.sigmoid(np.dot(x, self.w[1:]))\n",
    "    \n",
    "    #discriminacion\n",
    "    def predict(self, x, umbral = 0.5):\n",
    "            return self.predict_probs(x) >= umbral\n",
    "        \n",
    "    def score(self,x,y):\n",
    "        return sum(self.predict(x) == y)/np.shape(y)[0]\n",
    "\n",
    "            \n",
    "\n"
   ]
  },
  {
   "cell_type": "markdown",
   "metadata": {},
   "source": [
    "Se hace la separacion de los datos para hacer el entrenamiento del modelo"
   ]
  },
  {
   "cell_type": "code",
   "execution_count": 808,
   "metadata": {},
   "outputs": [],
   "source": [
    "# Separación de los datos\n",
    "t = 0.7 \n",
    "\n",
    "x_train = x_data_s[0:int(t*len(x_data_s))]\n",
    "x_val = x_data_s[int(t*len(x_data_s)):]\n",
    "\n",
    "y_train = x_target_s[0:int(t*len(x_data_s))]\n",
    "y_val = x_target_s[int(t*len(x_data_s)):]"
   ]
  },
  {
   "cell_type": "markdown",
   "metadata": {},
   "source": [
    "Se construye el modelo para hacer el entrenamiento "
   ]
  },
  {
   "cell_type": "code",
   "execution_count": 809,
   "metadata": {},
   "outputs": [
    {
     "data": {
      "text/plain": [
       "array([0.8189433])"
      ]
     },
     "execution_count": 809,
     "metadata": {},
     "output_type": "execute_result"
    }
   ],
   "source": [
    "model = LogisticR(η = 0.1, MaxIter = 1000, Error = True)\n",
    "model.fit(x_train,y_train)\n",
    "model.score(x_val,y_val)"
   ]
  },
  {
   "cell_type": "code",
   "execution_count": null,
   "metadata": {},
   "outputs": [],
   "source": []
  },
  {
   "cell_type": "code",
   "execution_count": null,
   "metadata": {},
   "outputs": [],
   "source": []
  },
  {
   "cell_type": "code",
   "execution_count": null,
   "metadata": {},
   "outputs": [],
   "source": []
  },
  {
   "cell_type": "code",
   "execution_count": 810,
   "metadata": {},
   "outputs": [],
   "source": [
    "# Separación de los datos\n",
    "x_data_c = data_cancer[:,:-1]\n",
    "x_target_c = data_cancer[:,-1:]\n",
    "\n",
    "t = 0.7 ; v = 1-t\n",
    "\n",
    "\n",
    "x_train = x_data_c[0:int(t*len(x_data_c))]\n",
    "x_val = x_data_c[int(t*len(x_data_c)):]\n",
    "\n",
    "y_train = x_target_c[0:int(t*len(x_data_c))]\n",
    "y_val = x_target_c[int(t*len(x_data_c)):]\n",
    "\n",
    "# convertir a unos y ceros los vectores objetivo \n",
    "# 2 ----> no tiene cancer corresponde a 0\n",
    "# 4 ----> tiene cancer corresponde a 1\n",
    "y_train = np.where(y_train == 2,0,1)\n",
    "y_val = np.where(y_val == 2,0,1)\n",
    "\n",
    "\n"
   ]
  },
  {
   "cell_type": "code",
   "execution_count": 818,
   "metadata": {},
   "outputs": [
    {
     "data": {
      "text/plain": [
       "array([0.70731707])"
      ]
     },
     "execution_count": 818,
     "metadata": {},
     "output_type": "execute_result"
    }
   ],
   "source": [
    "model = LogisticR(η = 0.1,MaxIter= 1000,Error = True)\n",
    "model.fit(x_train,y_train)\n",
    "model.score(x_val,y_val)"
   ]
  },
  {
   "cell_type": "code",
   "execution_count": 819,
   "metadata": {},
   "outputs": [
    {
     "name": "stdout",
     "output_type": "stream",
     "text": [
      "[False] [0]\n"
     ]
    }
   ],
   "source": [
    "print(model.predict(x_val[2]),y_val[2])"
   ]
  },
  {
   "cell_type": "code",
   "execution_count": null,
   "metadata": {},
   "outputs": [],
   "source": []
  },
  {
   "cell_type": "code",
   "execution_count": null,
   "metadata": {},
   "outputs": [],
   "source": []
  },
  {
   "cell_type": "code",
   "execution_count": null,
   "metadata": {},
   "outputs": [],
   "source": []
  },
  {
   "cell_type": "code",
   "execution_count": null,
   "metadata": {},
   "outputs": [],
   "source": []
  },
  {
   "cell_type": "code",
   "execution_count": 512,
   "metadata": {},
   "outputs": [],
   "source": [
    "# Separación de los datos\n",
    "x_data_c = data_cancer[:,:-1]\n",
    "x_target_c = data_cancer[:,-1:]\n",
    "\n",
    "t = 0.7 ; v = 1-t\n",
    "\n",
    "\n",
    "x_train = x_data_c[0:int(t*len(x_data_c))]\n",
    "x_val = x_data_c[int(t*len(x_data_c)):]\n",
    "\n",
    "y_train = x_target_c[0:int(t*len(x_data_c))]\n",
    "y_val = x_target_c[int(t*len(x_data_c)):]\n",
    "\n",
    "# convertir a unos y ceros los vectores objetivo \n",
    "# 2 ----> no tiene cancer corresponde a 0\n",
    "# 4 ----> tiene cancer corresponde a 1\n",
    "y_train = np.where(y_train == 2,0,1)\n",
    "y_val = np.where(y_val == 2,0,1)\n",
    "\n",
    "\n"
   ]
  },
  {
   "cell_type": "markdown",
   "metadata": {},
   "source": [
    "Vamos a construir una clase para poder construir el modelo de regresión logistica\n"
   ]
  },
  {
   "cell_type": "code",
   "execution_count": 745,
   "metadata": {},
   "outputs": [
    {
     "data": {
      "text/plain": [
       "array([0.7804878])"
      ]
     },
     "execution_count": 745,
     "metadata": {},
     "output_type": "execute_result"
    }
   ],
   "source": [
    "class LogisticR():\n",
    "    \n",
    "    def __init__(self, η = 0.01 , MaxIter = 10000, intercept = True ,Error = False):\n",
    "        self.η = η\n",
    "        self.MaxIter = MaxIter\n",
    "        self.intercept = intercept\n",
    "        self.Error = Error\n",
    "        #self.l = l\n",
    "    # Consideracion del punto de corte, añadir los unos a la matriz de diseño\n",
    "    def Intercept(self,x):\n",
    "        unos = np.ones((np.shape(x)[0],1))\n",
    "        Phi = np.concatenate((unos,x),axis = 1)\n",
    "        return Phi\n",
    "    \n",
    "    # Definición de la funcion sigmoide\n",
    "    def sigmoid(self,x):\n",
    "        return 1/(1+np.exp(-x))\n",
    "    \n",
    "    def Loss(self,h,y):\n",
    "        return np.mean(-y*np.log(h)-(1-y)*np.log(1-h))\n",
    "        \n",
    "    # Definicion del ajuste\n",
    "    def fit(self,x,y):\n",
    "        if self.intercept == True:\n",
    "            x = self.Intercept(x)\n",
    "            \n",
    "        # Inicializacion aleatoria de los pesos \n",
    "        self.w = np.random.uniform(0,1,(1,np.shape(x)[1])).T\n",
    "\n",
    "        self.l = np.zeros(self.MaxIter)\n",
    "        \n",
    "        # Ciclo de optimización de los parámetros \n",
    "        for i in range(self.MaxIter):\n",
    "            z = np.dot(x, self.w)\n",
    "            h = sigmoid(z)\n",
    "            g = np.dot(x.T, (h - y)) / y.shape[0]\n",
    "            self.w = self.w -η*g\n",
    "            \n",
    "            if self.Error == True :\n",
    "                z = np.dot(x, self.w)\n",
    "                h = sigmoid(z)\n",
    "                self.l[i] = self.Loss(h,y)\n",
    "                #print(\"perdida = {:.3f}\".format(self.Loss(h,y)))\n",
    "                \n",
    "            \n",
    "    # Definicion del calculo de la probabilidad\n",
    "    def predict_probs(self, x):\n",
    "            if self.intercept == True:\n",
    "                return self.sigmoid(np.dot(x, self.w[1:]))\n",
    "    \n",
    "    #discriminacion\n",
    "    def predict(self, x, umbral = 0.5):\n",
    "            return self.predict_probs(x) <= umbral\n",
    "        \n",
    "    def score(self,x,y):\n",
    "        return sum(self.predict(x) == y)/np.shape(y)[0]\n",
    "\n",
    "            \n",
    "\n",
    "model = LogisticR(η = 0.1,Error = True)\n",
    "model.fit(x_train,y_train)\n",
    "model.score(x_val,y_val)"
   ]
  },
  {
   "cell_type": "code",
   "execution_count": 746,
   "metadata": {},
   "outputs": [
    {
     "name": "stdout",
     "output_type": "stream",
     "text": [
      "Error = 0.1333828973042116\n"
     ]
    },
    {
     "data": {
      "image/png": "[encoded data removed]",
      "text/plain": [
       "<Figure size 432x288 with 1 Axes>"
      ]
     },
     "metadata": {
      "needs_background": "light"
     },
     "output_type": "display_data"
    }
   ],
   "source": [
    "Error = model.l[-1]\n",
    "plt.plot(model.l)\n",
    "print(\"Error = {}\".format(Error))"
   ]
  },
  {
   "cell_type": "code",
   "execution_count": 747,
   "metadata": {},
   "outputs": [],
   "source": [
    "model_spam = LogisticR(η = 0.01)\n",
    "model"
   ]
  },
  {
   "cell_type": "code",
   "execution_count": 631,
   "metadata": {},
   "outputs": [
    {
     "data": {
      "text/plain": [
       "array([0.])"
      ]
     },
     "execution_count": 631,
     "metadata": {},
     "output_type": "execute_result"
    }
   ],
   "source": [
    "s = 0\n",
    "for i in range(len(y_val)):\n",
    "    s+=model.predict(x_val[i],y_val[i])==y_val[i]\n",
    "s/np.shape(y_val)[0]"
   ]
  },
  {
   "cell_type": "code",
   "execution_count": 517,
   "metadata": {},
   "outputs": [
    {
     "data": {
      "text/plain": [
       "array([0.2195122])"
      ]
     },
     "execution_count": 517,
     "metadata": {},
     "output_type": "execute_result"
    }
   ],
   "source": [
    "unos = np.ones((len(x_train),1))\n",
    "Phi = np.concatenate((unos,x_train),axis = 1)\n",
    "w = np.random.uniform(0,1,(1,np.shape(Phi)[1])).T\n",
    "\n",
    "\n",
    "\n",
    "def sigmoid(z):\n",
    "    return 1 / (1 + np.exp(-z))\n",
    "\n",
    "def predict_probs(X, theta):\n",
    "    return sigmoid(np.dot(X, theta))\n",
    "\n",
    "def predict(X, theta, threshold=0.5):\n",
    "    return predict_probs(X, theta) >= threshold\n",
    "\n",
    "\n",
    "\n",
    "for i in range(10):\n",
    "    z = np.dot(Phi, w)\n",
    "    h = sigmoid(z)\n",
    "\n",
    "    gradient = np.dot(Phi.T, (h - y_train)) / y_train.shape[0]\n",
    "\n",
    "\n",
    "    lr = 0.01\n",
    "    w = w - lr * gradient\n",
    "\n",
    "\n",
    "#print(predict_probs(x_val[0],w[1:]))\n",
    "s = 0\n",
    "for i in range(len(y_val)):\n",
    "    s+=predict(x_val[i],w[1:])==y_val[i]\n",
    "s/len(y_val)"
   ]
  },
  {
   "cell_type": "markdown",
   "metadata": {},
   "source": [
    "# "
   ]
  },
  {
   "cell_type": "code",
   "execution_count": 304,
   "metadata": {},
   "outputs": [],
   "source": [
    "unos = np.ones((len(x_train),1))\n",
    "Phi = np.concatenate((unos,x_train),axis = 1)\n",
    "w = np.random.uniform(0,0.001,(1,np.shape(Phi)[1])).T\n",
    "\n"
   ]
  },
  {
   "cell_type": "code",
   "execution_count": 317,
   "metadata": {},
   "outputs": [
    {
     "name": "stdout",
     "output_type": "stream",
     "text": [
      "Error alcanzado = 284.0\n"
     ]
    },
    {
     "data": {
      "image/png": "[encoded data removed]",
      "text/plain": [
       "<Figure size 720x576 with 1 Axes>"
      ]
     },
     "metadata": {
      "needs_background": "light"
     },
     "output_type": "display_data"
    }
   ],
   "source": [
    "plt.figure(figsize=(10,8))\n",
    "plt.plot(lost,\"b--\")\n",
    "plt.xlabel(\"Pasos\")\n",
    "plt.ylabel(\"Error\")\n",
    "plt.title(\"Descenso\", size = 12)\n",
    "plt.grid(True)\n",
    "print(\"Error alcanzado = {}\".format(lost[-1]))"
   ]
  },
  {
   "cell_type": "code",
   "execution_count": 207,
   "metadata": {},
   "outputs": [
    {
     "data": {
      "text/plain": [
       "array([[1., 1., 1., 1., 1., 1., 1., 1., 1., 1., 1., 1., 1., 1., 1., 1.,\n",
       "        1., 1., 1., 1., 1., 1., 1., 1., 1., 1., 1., 1., 1., 1., 1., 1.,\n",
       "        1., 1., 1., 1., 1., 1., 1., 1., 1., 1., 1., 1., 1., 1., 1., 1.,\n",
       "        1., 1., 1., 1., 1., 1., 1., 1., 1., 1., 1., 1., 1., 1., 1., 1.,\n",
       "        1., 1., 1., 1., 1., 1., 1., 1., 1., 1., 1., 1., 1., 1., 1., 1.,\n",
       "        1., 1., 1., 1., 1., 1., 1., 1., 1., 1., 1., 1., 1., 1., 1., 1.,\n",
       "        1., 1., 1., 1., 1., 1., 1., 1., 1., 1., 1., 1., 1., 1., 1., 1.,\n",
       "        1., 1., 1., 1., 1., 1., 1., 1., 1., 1., 1., 1., 1., 1., 1., 1.,\n",
       "        1., 1., 1., 1., 1., 1., 1., 1., 1., 1., 1., 1., 1., 1., 1., 1.,\n",
       "        1., 1., 1., 1., 1., 1., 1., 1., 1., 1., 1., 1., 1., 1., 1., 1.,\n",
       "        1., 1., 1., 1., 1., 1., 1., 1., 1., 1., 1., 1., 1., 1., 1., 1.,\n",
       "        1., 1., 1., 1., 1., 1., 1., 1., 1., 1., 1., 1., 1., 1., 1., 1.,\n",
       "        1., 1., 1., 1., 1., 1., 1., 1., 1., 1., 1., 1., 1.]])"
      ]
     },
     "execution_count": 207,
     "metadata": {},
     "output_type": "execute_result"
    }
   ],
   "source": [
    "sigmoid(w[1:].T@x_val.T)"
   ]
  },
  {
   "cell_type": "code",
   "execution_count": 201,
   "metadata": {},
   "outputs": [
    {
     "data": {
      "text/plain": [
       "array([0])"
      ]
     },
     "execution_count": 201,
     "metadata": {},
     "output_type": "execute_result"
    }
   ],
   "source": [
    "y_val[1]"
   ]
  },
  {
   "cell_type": "code",
   "execution_count": 226,
   "metadata": {},
   "outputs": [],
   "source": [
    "class LogisticRegression:\n",
    "    def __init__(self, lr=0.01, num_iter=100000, fit_intercept=True, verbose=False):\n",
    "        self.lr = lr\n",
    "        self.num_iter = num_iter\n",
    "        self.fit_intercept = fit_intercept\n",
    "    \n",
    "    def __add_intercept(self, X):\n",
    "        intercept = np.ones((X.shape[0], 1))\n",
    "        return np.concatenate((intercept, X), axis=1)\n",
    "    \n",
    "    def __sigmoid(self, z):\n",
    "        return 1 / (1 + np.exp(-z))\n",
    "    def __loss(self, h, y):\n",
    "        return (-y * np.log(h) - (1 - y) * np.log(1 - h)).mean()\n",
    "    \n",
    "    def fit(self, X, y):\n",
    "        if self.fit_intercept:\n",
    "            X = self.__add_intercept(X)\n",
    "        \n",
    "        # weights initialization\n",
    "        self.theta = np.zeros(X.shape[1])\n",
    "        \n",
    "        for i in range(self.num_iter):\n",
    "            z = np.dot(X, self.theta)\n",
    "            h = self.__sigmoid(z)\n",
    "            gradient = np.dot(X.T, (h - y)) / y.size\n",
    "            self.theta -= self.lr * gradient\n",
    "            \n",
    "            if(self.verbose == True and i % 10000 == 0):\n",
    "                z = np.dot(X, self.theta)\n",
    "                h = self.__sigmoid(z)\n",
    "                print(f'loss: {self.__loss(h, y)} \\t')\n",
    "    \n",
    "    def predict_prob(self, X):\n",
    "        if self.fit_intercept:\n",
    "            X = self.__add_intercept(X)\n",
    "    \n",
    "        return self.__sigmoid(np.dot(X, self.theta))\n",
    "    \n",
    "    def predict(self, X, threshold):\n",
    "        return self.predict_prob(X) >= threshold"
   ]
  },
  {
   "cell_type": "code",
   "execution_count": 232,
   "metadata": {},
   "outputs": [
    {
     "data": {
      "text/plain": [
       "(477, 9)"
      ]
     },
     "execution_count": 232,
     "metadata": {},
     "output_type": "execute_result"
    }
   ],
   "source": [
    "np.shape(x_train)"
   ]
  },
  {
   "cell_type": "code",
   "execution_count": 233,
   "metadata": {},
   "outputs": [
    {
     "data": {
      "text/plain": [
       "(477, 1)"
      ]
     },
     "execution_count": 233,
     "metadata": {},
     "output_type": "execute_result"
    }
   ],
   "source": [
    "np.shape(y_train)"
   ]
  },
  {
   "cell_type": "code",
   "execution_count": null,
   "metadata": {},
   "outputs": [],
   "source": []
  }
 ],
 "metadata": {
  "kernelspec": {
   "display_name": "Python 3",
   "language": "python",
   "name": "python3"
  },
  "language_info": {
   "codemirror_mode": {
    "name": "ipython",
    "version": 3
   },
   "file_extension": ".py",
   "mimetype": "text/x-python",
   "name": "python",
   "nbconvert_exporter": "python",
   "pygments_lexer": "ipython3",
   "version": "3.7.4"
  }
 },
 "nbformat": 4,
 "nbformat_minor": 4
}
