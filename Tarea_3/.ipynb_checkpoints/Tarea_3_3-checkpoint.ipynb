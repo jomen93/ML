{
 "cells": [
  {
   "cell_type": "code",
   "execution_count": 4,
   "metadata": {},
   "outputs": [],
   "source": [
    "import numpy as np\n",
    "import matplotlib.pyplot as plt\n",
    "import pandas as pd\n",
    "import seaborn as sns\n",
    "\n",
    "from sklearn.naive_bayes import MultinomialNB, GaussianNB\n",
    "from sklearn.model_selection import train_test_split\n",
    "from sklearn.linear_model.logistic import LogisticRegression\n",
    "\n",
    "\n",
    "\n",
    "\n",
    "\n"
   ]
  },
  {
   "cell_type": "markdown",
   "metadata": {},
   "source": [
    "## Regresion logística Vs Clasificador Bayesiano ingenuo\n",
    "\n",
    "Compara los métodos de regresión logística y el clasificador bayesiano ingenuo en las siguientes tareas:\n",
    "\n"
   ]
  },
  {
   "cell_type": "markdown",
   "metadata": {},
   "source": [
    "En primer lugar se leen los datos "
   ]
  },
  {
   "cell_type": "code",
   "execution_count": 5,
   "metadata": {},
   "outputs": [
    {
     "name": "stdout",
     "output_type": "stream",
     "text": [
      "Tamaño de datos = (5171, 2000), objetivos = (5171, 1)\n"
     ]
    }
   ],
   "source": [
    "# Lectura de datos Spam\n",
    "\n",
    "# Los datos de spam vienen con tipo de datos que no permiten hacer los\n",
    "# calculos pertinentes para esto se hace arreglos \n",
    "#lectura de datos\n",
    "spam = pd.read_csv(\"spam.csv\")\n",
    "data_spam = spam.to_numpy()\n",
    "\n",
    "# Se hace para poner todos los datos como arrays, vienen compactos los datos\n",
    "x = []\n",
    "for i in range(len(data_spam)): \n",
    "    x.append(np.array([float(i) for i in data_spam[i][0].split()]))\n",
    "x = np.array(x)\n",
    "\n",
    "# Se definen los datos y los objetivos\n",
    "x_data_s = x[:,:-1]\n",
    "x_target_s = x[:,-1:]\n",
    "\n",
    "print(\"Spam\")\n",
    "print(\"Tamaño de datos = {}, objetivos = {}\".format(np.shape(x_data_s),np.shape(x_target_s)))"
   ]
  },
  {
   "cell_type": "code",
   "execution_count": 6,
   "metadata": {},
   "outputs": [
    {
     "name": "stdout",
     "output_type": "stream",
     "text": [
      "Spam\n",
      "Tamaño de datos = (682, 9), objetivos = (682, 1)\n"
     ]
    }
   ],
   "source": [
    "# Lectura datos cancer\n",
    "\n",
    "# Definimos lista con los nombres de las características \n",
    "Names = [\"ID \",\"Grosor del tumor\",\"Uniformidad tamaño\",\n",
    "            \"forma celula\",\"Adhesion marginal\",\"Tamaño celula epitelial\",\n",
    "            \"Nucleos desnudos\",\"Cromatina blanda\",\"Núcleolos normales\",\n",
    "           \"Mitosis de celulas\",\"Clase\"]\n",
    "cancer = pd.read_csv(\"breast-cancer-wisconsin.data\",names = Names)\n",
    "# Eliminamos la columna de ID, no brinda información dado que no se repite\n",
    "cancer = cancer.drop([cancer.columns[0]],axis = 1)\n",
    "data_cancer = cancer.to_numpy()\n",
    "\n",
    "\n",
    "# Para trabajar con uniformidad eliminamos los datos con \"?\" y asi poder comparar los \n",
    "# modelos, el objetivo es poder ver que algoritmo tiene mejor rendimiento \n",
    "\n",
    "index = np.where(data_cancer == \"?\")\n",
    "data_cancer = np.delete(data_cancer,index,axis=0)\n",
    "data_cancer[:,5] = data_cancer[:,5].astype(np.float)\n",
    "data_cancer = data_cancer.astype(np.float)\n",
    "\n",
    "x_data_c = data_cancer[:,:-1]\n",
    "x_target_c = data_cancer[:,-1:]\n",
    "\n",
    "print(\"Spam\")\n",
    "print(\"Tamaño de datos = {}, objetivos = {}\".format(np.shape(x_data_c),np.shape(x_target_c)))"
   ]
  },
  {
   "cell_type": "markdown",
   "metadata": {},
   "source": [
    "Hacemos los modelos para cada uno de los problemas\n",
    "\n",
    "* Clasificador de spam"
   ]
  },
  {
   "cell_type": "code",
   "execution_count": 34,
   "metadata": {},
   "outputs": [
    {
     "name": "stdout",
     "output_type": "stream",
     "text": [
      "Rendimiento del modelo Naive Bayes = 0.961\n",
      "Rendimiento del modelo Regresión Logistica = 0.972\n"
     ]
    }
   ],
   "source": [
    "# Clasificacion de spam\n",
    "\n",
    "X_trainNBs, X_testNBs, Y_trainNBs,Y_testNBs = train_test_split(x_data_s,x_target_s,test_size = 0.3)\n",
    "# Modelo Bayesiano ingenuo\n",
    "spam_model_NB = MultinomialNB(alpha = 1e-10, class_prior = None, fit_prior=False)\n",
    "spam_model_NB.fit(X_trainNBs,np.ravel(Y_trainNBs))\n",
    "print(\"Rendimiento del modelo Naive Bayes = {:.3f}\".format(spam_model_NB.score(X_testNBs,Y_testNBs)))\n",
    "pred_prob_NB = spam_model_NB.predict(X_testNBs[1:2])\n",
    "\n",
    "# Modelo de regresión logística\n",
    "X_trainLRs, X_testLRs, Y_trainLRs,Y_testLRs = train_test_split(x_data_s,x_target_s,test_size = 0.3)\n",
    "spam_model_LR = LogisticRegression(random_state=0,solver= \"newton-cg\")\n",
    "spam_model_LR.fit(X_trainLRs,np.ravel(Y_trainLRs))\n",
    "print(\"Rendimiento del modelo Regresión Logistica = {:.3f}\".format(spam_model_LR.score(X_testLRs,Y_testLRs)))\n",
    "pred_prob_LR = spam_model_LR.predict(X_testLRs[1:2])\n"
   ]
  },
  {
   "cell_type": "markdown",
   "metadata": {},
   "source": [
    "* Clasificador de tumores de Seno "
   ]
  },
  {
   "cell_type": "code",
   "execution_count": 33,
   "metadata": {},
   "outputs": [
    {
     "name": "stdout",
     "output_type": "stream",
     "text": [
      "Rendimiento del modelo Naive Bayes = 0.956\n",
      "Rendimiento del modelo Naive Bayes = 0.964\n"
     ]
    }
   ],
   "source": [
    "#Clasificacion de tumores de Seno\n",
    "\n",
    "# Modelo Bayesiano ingenuo\n",
    "X_trainNBc, X_testNBc, Y_trainNBc,Y_testNBc = train_test_split(x_data_c,x_target_c,test_size = 0.2)\n",
    "cancer_model_G = GaussianNB()\n",
    "cancer_model_G.fit(X_trainNBc,np.ravel(Y_trainNBc))\n",
    "print(\"Rendimiento del modelo Naive Bayes = {:.3f}\".format(cancer_model_G.score(X_testNBc,Y_testNBc)))\n",
    "pred_prob_G = cancer_model_G.predict(X_testNBc[1:2])\n",
    "\n",
    "#Modelo de regresion Logistica\n",
    "X_trainLRc, X_testLRc, Y_trainLRc,Y_testLRc = train_test_split(x_data_c,x_target_c,test_size = 0.2)\n",
    "cancer_model_G = LogisticRegression(random_state=0,solver= \"liblinear\")\n",
    "cancer_model_G.fit(X_trainLRc,np.ravel(Y_trainLRc))\n",
    "print(\"Rendimiento del modelo Naive Bayes = {:.3f}\".format(cancer_model_G.score(X_testLRc,Y_testLRc)))\n",
    "pred_prob_G = cancer_model_G.predict(X_testLRc[1:2])\n"
   ]
  },
  {
   "cell_type": "markdown",
   "metadata": {},
   "source": [
    "Se hace la implementación de el modelo de scikit learn en el caso de regresión logistica para tener una refencia y comparar el modelo que se va a construir y ver si dista mucho del modelo ya programado correctamente"
   ]
  },
  {
   "cell_type": "markdown",
   "metadata": {},
   "source": [
    "### Regresión logística para la clasificación de spam \n",
    "\n",
    "Para este modelo se tienen $N = 5171$ datos recopilados y $M = 2000$ características. A continuación debemos considerar dos clases, es o no spam\n",
    "\n",
    "debemos encontrar la actualización de los parámetros del modelo a través de la siguiente expresión \n",
    "\n",
    "$$\\vec{\\omega}^{\\tau+1} = \\vec{\\omega}^{\\tau} - \\mathcal{H}^{-1}\\nabla_{\\omega}E(\\vec{\\omega})$$\n",
    "\n",
    "donde lo que debemos calcular es lo siguiente\n",
    "\n",
    "$$\\mathcal{H} = \\Phi^{T}\\mathcal{R}\\Phi$$\n",
    "\n",
    "$$\\nabla_{\\vec{\\omega}}E(\\vec{w}) = \\Phi^{T}(\\vec{y}-\\vec{t})$$"
   ]
  },
  {
   "cell_type": "code",
   "execution_count": 64,
   "metadata": {},
   "outputs": [],
   "source": [
    "#vector de objetivos\n",
    "t = x_target_s\n",
    "# Antes que nada se define la función sigmoide\n",
    "def sigmoid(z):\n",
    "    return 1/(1+np.exp(-z))\n",
    "\n",
    "# Ahora se construye la matriz de diseño\n",
    "unos = np.ones((len(x_data_s),1))\n",
    "Phi = np.concatenate((unos,x_data_s),axis = 1)\n",
    "\n",
    "# Definimos el vector de pesos\n",
    "w = np.random.uniform(0,0.001,(1,np.shape(Phi)[1])).T\n",
    "\n",
    "# calculamos el vector Y que estima los parametros desde la función sigmoide\n",
    "Y = sigmoid(w.T@Phi.T).T\n",
    "\n",
    "# calculamos el gradiente\n",
    "G = Phi.T@(Y-t)\n",
    "\n",
    "#Calculamos la matriz Hessiana\n",
    "r = np.zeros((len(Y),len(Y)))\n",
    "np.fill_diagonal(r,Y*(1-Y))\n",
    "H = Phi.T@r@Phi\n"
   ]
  },
  {
   "cell_type": "code",
   "execution_count": 66,
   "metadata": {},
   "outputs": [
    {
     "data": {
      "text/plain": [
       "6.9557094582990025e+277"
      ]
     },
     "execution_count": 66,
     "metadata": {},
     "output_type": "execute_result"
    }
   ],
   "source": [
    "np.linalg.det(H[0:150,0:150])"
   ]
  },
  {
   "cell_type": "code",
   "execution_count": 74,
   "metadata": {},
   "outputs": [
    {
     "data": {
      "text/html": [
       "<div>\n",
       "<style scoped>\n",
       "    .dataframe tbody tr th:only-of-type {\n",
       "        vertical-align: middle;\n",
       "    }\n",
       "\n",
       "    .dataframe tbody tr th {\n",
       "        vertical-align: top;\n",
       "    }\n",
       "\n",
       "    .dataframe thead th {\n",
       "        text-align: right;\n",
       "    }\n",
       "</style>\n",
       "<table border=\"1\" class=\"dataframe\">\n",
       "  <thead>\n",
       "    <tr style=\"text-align: right;\">\n",
       "      <th></th>\n",
       "      <th>pink floyd</th>\n",
       "      <th>The beatles</th>\n",
       "      <th>R.E.M</th>\n",
       "      <th>Nirvana</th>\n",
       "      <th>Queen</th>\n",
       "      <th>Oasis</th>\n",
       "      <th>Joven(J)/Adulto(A)</th>\n",
       "    </tr>\n",
       "  </thead>\n",
       "  <tbody>\n",
       "    <tr>\n",
       "      <td>0</td>\n",
       "      <td>1.0</td>\n",
       "      <td>0.0</td>\n",
       "      <td>0.0</td>\n",
       "      <td>1.0</td>\n",
       "      <td>1.0</td>\n",
       "      <td>1.0</td>\n",
       "      <td>1</td>\n",
       "    </tr>\n",
       "    <tr>\n",
       "      <td>1</td>\n",
       "      <td>1.0</td>\n",
       "      <td>1.0</td>\n",
       "      <td>0.0</td>\n",
       "      <td>1.0</td>\n",
       "      <td>1.0</td>\n",
       "      <td>0.0</td>\n",
       "      <td>1</td>\n",
       "    </tr>\n",
       "    <tr>\n",
       "      <td>2</td>\n",
       "      <td>1.0</td>\n",
       "      <td>1.0</td>\n",
       "      <td>1.0</td>\n",
       "      <td>0.0</td>\n",
       "      <td>0.0</td>\n",
       "      <td>1.0</td>\n",
       "      <td>1</td>\n",
       "    </tr>\n",
       "    <tr>\n",
       "      <td>3</td>\n",
       "      <td>1.0</td>\n",
       "      <td>0.0</td>\n",
       "      <td>1.0</td>\n",
       "      <td>0.0</td>\n",
       "      <td>0.0</td>\n",
       "      <td>1.0</td>\n",
       "      <td>1</td>\n",
       "    </tr>\n",
       "    <tr>\n",
       "      <td>4</td>\n",
       "      <td>1.0</td>\n",
       "      <td>0.0</td>\n",
       "      <td>0.0</td>\n",
       "      <td>0.0</td>\n",
       "      <td>1.0</td>\n",
       "      <td>0.0</td>\n",
       "      <td>1</td>\n",
       "    </tr>\n",
       "    <tr>\n",
       "      <td>5</td>\n",
       "      <td>1.0</td>\n",
       "      <td>1.0</td>\n",
       "      <td>1.0</td>\n",
       "      <td>0.0</td>\n",
       "      <td>0.0</td>\n",
       "      <td>0.0</td>\n",
       "      <td>1</td>\n",
       "    </tr>\n",
       "    <tr>\n",
       "      <td>6</td>\n",
       "      <td>1.0</td>\n",
       "      <td>1.0</td>\n",
       "      <td>0.0</td>\n",
       "      <td>0.0</td>\n",
       "      <td>1.0</td>\n",
       "      <td>1.0</td>\n",
       "      <td>0</td>\n",
       "    </tr>\n",
       "    <tr>\n",
       "      <td>7</td>\n",
       "      <td>1.0</td>\n",
       "      <td>1.0</td>\n",
       "      <td>1.0</td>\n",
       "      <td>0.0</td>\n",
       "      <td>0.0</td>\n",
       "      <td>1.0</td>\n",
       "      <td>0</td>\n",
       "    </tr>\n",
       "    <tr>\n",
       "      <td>8</td>\n",
       "      <td>1.0</td>\n",
       "      <td>1.0</td>\n",
       "      <td>1.0</td>\n",
       "      <td>1.0</td>\n",
       "      <td>1.0</td>\n",
       "      <td>0.0</td>\n",
       "      <td>0</td>\n",
       "    </tr>\n",
       "    <tr>\n",
       "      <td>9</td>\n",
       "      <td>1.0</td>\n",
       "      <td>1.0</td>\n",
       "      <td>1.0</td>\n",
       "      <td>0.0</td>\n",
       "      <td>1.0</td>\n",
       "      <td>0.0</td>\n",
       "      <td>0</td>\n",
       "    </tr>\n",
       "    <tr>\n",
       "      <td>10</td>\n",
       "      <td>1.0</td>\n",
       "      <td>1.0</td>\n",
       "      <td>1.0</td>\n",
       "      <td>0.0</td>\n",
       "      <td>1.0</td>\n",
       "      <td>1.0</td>\n",
       "      <td>0</td>\n",
       "    </tr>\n",
       "    <tr>\n",
       "      <td>11</td>\n",
       "      <td>1.0</td>\n",
       "      <td>1.0</td>\n",
       "      <td>0.0</td>\n",
       "      <td>1.0</td>\n",
       "      <td>1.0</td>\n",
       "      <td>0.0</td>\n",
       "      <td>0</td>\n",
       "    </tr>\n",
       "    <tr>\n",
       "      <td>12</td>\n",
       "      <td>1.0</td>\n",
       "      <td>1.0</td>\n",
       "      <td>0.0</td>\n",
       "      <td>1.0</td>\n",
       "      <td>0.0</td>\n",
       "      <td>0.0</td>\n",
       "      <td>0</td>\n",
       "    </tr>\n",
       "  </tbody>\n",
       "</table>\n",
       "</div>"
      ],
      "text/plain": [
       "    pink floyd  The beatles  R.E.M  Nirvana  Queen  Oasis  Joven(J)/Adulto(A)\n",
       "0          1.0          0.0    0.0      1.0    1.0    1.0                   1\n",
       "1          1.0          1.0    0.0      1.0    1.0    0.0                   1\n",
       "2          1.0          1.0    1.0      0.0    0.0    1.0                   1\n",
       "3          1.0          0.0    1.0      0.0    0.0    1.0                   1\n",
       "4          1.0          0.0    0.0      0.0    1.0    0.0                   1\n",
       "5          1.0          1.0    1.0      0.0    0.0    0.0                   1\n",
       "6          1.0          1.0    0.0      0.0    1.0    1.0                   0\n",
       "7          1.0          1.0    1.0      0.0    0.0    1.0                   0\n",
       "8          1.0          1.0    1.0      1.0    1.0    0.0                   0\n",
       "9          1.0          1.0    1.0      0.0    1.0    0.0                   0\n",
       "10         1.0          1.0    1.0      0.0    1.0    1.0                   0\n",
       "11         1.0          1.0    0.0      1.0    1.0    0.0                   0\n",
       "12         1.0          1.0    0.0      1.0    0.0    0.0                   0"
      ]
     },
     "execution_count": 74,
     "metadata": {},
     "output_type": "execute_result"
    }
   ],
   "source": [
    "import numpy as np \n",
    "import pandas as pd\n",
    "import matplotlib.pyplot as plt \n",
    "\n",
    "import warnings\n",
    "%matplotlib inline\n",
    "\n",
    "data = {\n",
    "    \"pink floyd\":[1.,1.,1.,1.,1.,1.,1.,1.,1.,1.,1.,1.,1.],\n",
    "    \"The beatles\":[0.,1.,1.,0.,0.,1.,1.,1.,1.,1.,1.,1.,1.],\n",
    "    \"R.E.M\":[0.,0.,1.,1.,0.,1.,0.,1.,1.,1.,1.,0.,0.],\n",
    "    \"Nirvana\":[1.,1.,0.,0.,0.,0.,0.,0.,1.,0.,0.,1.,1.],\n",
    "    \"Queen\":[1.,1.,0.,0.,1.,0.,1.,0.,1.,1.,1.,1.,0.],\n",
    "    \"Oasis\":[1.,0.,1.,1.,0.,0.,1.,1.,0.,0.,1.,0.,0.],\n",
    "    \"Joven(J)/Adulto(A)\":[1,1,1,1,1,1,0,0,0,0,0,0,0],\n",
    "}\n",
    "\n",
    "df = pd.DataFrame(data,columns = [\"pink floyd\",\"The beatles\", \"R.E.M\",\"Nirvana\",\"Queen\",\"Oasis\",\"Joven(J)/Adulto(A)\"])\n",
    "df\n",
    "\n"
   ]
  }
 ],
 "metadata": {
  "kernelspec": {
   "display_name": "Python 3",
   "language": "python",
   "name": "python3"
  },
  "language_info": {
   "codemirror_mode": {
    "name": "ipython",
    "version": 3
   },
   "file_extension": ".py",
   "mimetype": "text/x-python",
   "name": "python",
   "nbconvert_exporter": "python",
   "pygments_lexer": "ipython3",
   "version": "3.7.4"
  }
 },
 "nbformat": 4,
 "nbformat_minor": 4
}
