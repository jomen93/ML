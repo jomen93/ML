{
 "cells": [
  {
   "cell_type": "code",
   "execution_count": 3,
   "metadata": {},
   "outputs": [],
   "source": [
    "import matplotlib.pyplot as plt \n",
    "import numpy as np\n",
    "import pandas as pd\n",
    "from utils import N\n",
    "\n",
    "np.set_printoptions(formatter={\"float\":\"{:0.2f}\".format})\n",
    "\n",
    "df = pd.read_csv(\"spam.csv\")\n",
    "data = df.to_numpy()"
   ]
  },
  {
   "cell_type": "markdown",
   "metadata": {},
   "source": [
    "# Tarea 2"
   ]
  },
  {
   "cell_type": "markdown",
   "metadata": {},
   "source": [
    "## 1. Generos  \n",
    "\n",
    "Un programa de salud gubernamental desea clasificar los registros de las personas en géneros Femenino (F) o Masculino (M) a partir de los atributos nombre, estatura y peso. Se cuentan con los siguientes registros:"
   ]
  },
  {
   "cell_type": "code",
   "execution_count": 4,
   "metadata": {},
   "outputs": [
    {
     "data": {
      "text/html": [
       "<div>\n",
       "<style scoped>\n",
       "    .dataframe tbody tr th:only-of-type {\n",
       "        vertical-align: middle;\n",
       "    }\n",
       "\n",
       "    .dataframe tbody tr th {\n",
       "        vertical-align: top;\n",
       "    }\n",
       "\n",
       "    .dataframe thead th {\n",
       "        text-align: right;\n",
       "    }\n",
       "</style>\n",
       "<table border=\"1\" class=\"dataframe\">\n",
       "  <thead>\n",
       "    <tr style=\"text-align: right;\">\n",
       "      <th></th>\n",
       "      <th>Nombres</th>\n",
       "      <th>Estatura (m)</th>\n",
       "      <th>Peso (kg)</th>\n",
       "      <th>Genero</th>\n",
       "    </tr>\n",
       "  </thead>\n",
       "  <tbody>\n",
       "    <tr>\n",
       "      <td>0</td>\n",
       "      <td>Denis</td>\n",
       "      <td>1.72</td>\n",
       "      <td>75.3</td>\n",
       "      <td>M</td>\n",
       "    </tr>\n",
       "    <tr>\n",
       "      <td>1</td>\n",
       "      <td>Guadalupe</td>\n",
       "      <td>1.82</td>\n",
       "      <td>81.6</td>\n",
       "      <td>M</td>\n",
       "    </tr>\n",
       "    <tr>\n",
       "      <td>2</td>\n",
       "      <td>Alex</td>\n",
       "      <td>1.80</td>\n",
       "      <td>86.1</td>\n",
       "      <td>M</td>\n",
       "    </tr>\n",
       "    <tr>\n",
       "      <td>3</td>\n",
       "      <td>Alex</td>\n",
       "      <td>1.70</td>\n",
       "      <td>77.1</td>\n",
       "      <td>M</td>\n",
       "    </tr>\n",
       "    <tr>\n",
       "      <td>4</td>\n",
       "      <td>Cris</td>\n",
       "      <td>1.73</td>\n",
       "      <td>78.2</td>\n",
       "      <td>M</td>\n",
       "    </tr>\n",
       "    <tr>\n",
       "      <td>5</td>\n",
       "      <td>Juan</td>\n",
       "      <td>1.80</td>\n",
       "      <td>74.8</td>\n",
       "      <td>M</td>\n",
       "    </tr>\n",
       "    <tr>\n",
       "      <td>6</td>\n",
       "      <td>Juan</td>\n",
       "      <td>1.80</td>\n",
       "      <td>74.3</td>\n",
       "      <td>M</td>\n",
       "    </tr>\n",
       "    <tr>\n",
       "      <td>7</td>\n",
       "      <td>Denis</td>\n",
       "      <td>1.50</td>\n",
       "      <td>50.5</td>\n",
       "      <td>F</td>\n",
       "    </tr>\n",
       "    <tr>\n",
       "      <td>8</td>\n",
       "      <td>Alex</td>\n",
       "      <td>1.52</td>\n",
       "      <td>45.3</td>\n",
       "      <td>F</td>\n",
       "    </tr>\n",
       "    <tr>\n",
       "      <td>9</td>\n",
       "      <td>Cris</td>\n",
       "      <td>1.62</td>\n",
       "      <td>61.2</td>\n",
       "      <td>F</td>\n",
       "    </tr>\n",
       "    <tr>\n",
       "      <td>10</td>\n",
       "      <td>Rene</td>\n",
       "      <td>1.67</td>\n",
       "      <td>68.0</td>\n",
       "      <td>F</td>\n",
       "    </tr>\n",
       "    <tr>\n",
       "      <td>11</td>\n",
       "      <td>Guadalupe</td>\n",
       "      <td>1.65</td>\n",
       "      <td>58.9</td>\n",
       "      <td>F</td>\n",
       "    </tr>\n",
       "    <tr>\n",
       "      <td>12</td>\n",
       "      <td>Guadalupe</td>\n",
       "      <td>1.75</td>\n",
       "      <td>68.0</td>\n",
       "      <td>F</td>\n",
       "    </tr>\n",
       "  </tbody>\n",
       "</table>\n",
       "</div>"
      ],
      "text/plain": [
       "      Nombres  Estatura (m)  Peso (kg) Genero\n",
       "0       Denis          1.72       75.3      M\n",
       "1   Guadalupe          1.82       81.6      M\n",
       "2        Alex          1.80       86.1      M\n",
       "3        Alex          1.70       77.1      M\n",
       "4        Cris          1.73       78.2      M\n",
       "5        Juan          1.80       74.8      M\n",
       "6        Juan          1.80       74.3      M\n",
       "7       Denis          1.50       50.5      F\n",
       "8        Alex          1.52       45.3      F\n",
       "9        Cris          1.62       61.2      F\n",
       "10       Rene          1.67       68.0      F\n",
       "11  Guadalupe          1.65       58.9      F\n",
       "12  Guadalupe          1.75       68.0      F"
      ]
     },
     "execution_count": 4,
     "metadata": {},
     "output_type": "execute_result"
    }
   ],
   "source": [
    "data ={\n",
    "   \"Nombres\":[\"Denis\",\"Guadalupe\",\"Alex\",\"Alex\", \"Cris\",\n",
    "               \"Juan\",\"Juan\",\"Denis\",\"Alex\",\"Cris\",\"Rene\",\"Guadalupe\",\"Guadalupe\"],\n",
    "   \"Estatura (m)\":[1.72,1.82,1.8,1.7,1.73,1.8,1.8,1.5,1.52,1.62,1.67,1.65,1.75],\n",
    "   \"Peso (kg)\":[75.3,81.6,86.1,77.1,78.2,74.8,74.3,50.5,45.3,61.2,68.0,58.9,68.0],\n",
    "   \"Genero\":[\"M\",\"M\",\"M\",\"M\",\"M\",\"M\",\"M\",\"F\",\"F\",\"F\",\"F\",\"F\",\"F\"],\n",
    "   }\n",
    "\n",
    "df = pd.DataFrame(data, columns = [\"Nombres\",\"Estatura (m)\",\"Peso (kg)\",\"Genero\"])\n",
    "df"
   ]
  },
  {
   "cell_type": "markdown",
   "metadata": {},
   "source": [
    "Entrena un clasificador bayesiano ingenuo usando estimación por máxima verosimilitud y otro usando estimación por máximo a posteriori. Reporta los parámetros que obtuviste en embos casos y usa los clasificadores entrenados para predecir la clase de los siguientes vectores \n",
    "\n",
    "$$x_{1} = (\\text{Rene},1.68,65)$$\n",
    "$$x_{2} = (\\text{Guadalupe},1.75,80)$$\n",
    "$$x_{3} = (\\text{Denis},1.80,79)$$\n",
    "$$x_{4} = (\\text{Alex},1.90,85)$$\n",
    "$$x_{5} = (\\text{Cris},1.65,70)$$\n",
    "\n",
    "\n",
    "Describe de forma detallada el procedimiento que seguiste tante en el entrenamiento como en la predicción y discute los resultados obtenidos. Para el entrenamiento del clasificador por máximo a posteriori considera los siguientes valores para las distribuciones correspondientes \n",
    "\n",
    "---"
   ]
  },
  {
   "cell_type": "code",
   "execution_count": 6,
   "metadata": {},
   "outputs": [],
   "source": [
    "alpha = 2\n",
    "muoEM = 1.7;  muoEF = 1.5;  sigmaoEM_2 = 0.3;  sigmaoEF_2 = 0.1\n",
    "muoPM = 85.5; muoPF = 70.3; sigmaoPM_2 = 17.0; sigmaoPF_2 = 85.0\n",
    "\n",
    "data = df.to_numpy()"
   ]
  },
  {
   "cell_type": "markdown",
   "metadata": {},
   "source": [
    "Se contabiliza el número de elementos de cada clase y el número total de datos. Vamos a implementar un clasificador bayesano ingenuo utilizando estimadores de máxima verosimilitud y máximo a posteriori . A continuación el cálculo de los estimadores de EMV dadas por las siguientes expresiones\n",
    "\n",
    "\n",
    "$$\\hat{\\mu}_{EMV}=\\frac{1}{n}\\sum_{j=1}^{n}x^{(j)} \\qquad \\hat{\\sigma}^{2}_{EMV} = \\frac{1}{n}\\sum_{j=1}^{n}(x^{(j)}-\\hat{\\mu}_{EMV})^{2} $$\n"
   ]
  },
  {
   "cell_type": "code",
   "execution_count": 17,
   "metadata": {},
   "outputs": [
    {
     "name": "stdout",
     "output_type": "stream",
     "text": [
      " Estatura Masculino   = 1.767\n",
      " Estatura Femenino    = 1.618\n",
      " Peso Masculino       = 78.200\n",
      " Peso Femenino        = 58.650\n"
     ]
    }
   ],
   "source": [
    "NM = float(sum(data[:,-1:] == \"M\")) # Number of class H data\n",
    "NF = float(sum(data[:,-1:] == \"F\")) # Number of class F data\n",
    "NT  = np.shape(data)[0]             # Total number of data\n",
    "\n",
    "mu_Est = np.mean(data[:,1:2]) ; std_Est = np.std(data[:,1:2]) \n",
    "mu_Pes = np.mean(data[:,2:3]) ; std_Pes = np.std(data[:,2:3])\n",
    "\n",
    "Mas = data[data[:,-1]==\"M\"][:,:-1]\n",
    "Fem = data[data[:,-1]==\"F\"][:,:-1]\n",
    "NamM = data[data[:,-1]==\"M\"][:,:1]\n",
    "NamF = data[data[:,-1]==\"F\"][:,:1]\n",
    "\n",
    "\n",
    "# Normal distribution\n",
    "mu_EM = np.mean(Mas[::,-2]); std_EM = np.std(Mas[::,-2])\n",
    "mu_EF = np.mean(Fem[::,-2]); std_EF = np.std(Fem[::,-2])\n",
    "mu_PM = np.mean(Mas[::,-1]); std_PM = np.std(Mas[::,-1])\n",
    "mu_PF = np.mean(Fem[::,-1]); std_PF = np.std(Fem[::,-1])\n",
    "\n",
    "# Categorical Distribution\n",
    "q_M = np.asarray(np.unique(NamM,return_counts=True))\n",
    "q_F = np.asarray(np.unique(NamF,return_counts=True))\n",
    "\n",
    "qM_prov = {q_M[0][i]:q_M[1][i] for i in range(len(q_M[0]))}\n",
    "qF_prov = {q_F[0][i]:q_F[1][i] for i in range(len(q_F[0]))}\n",
    "\n",
    "mu = np.array([mu_EM,mu_PM,mu_EF,mu_PF])\n",
    "std = np.array([std_EM,std_PM,std_EF,std_PF]) \n",
    "\n",
    "print(\" Estatura Masculino   = {0:.3f}\".format(mu_EM))\n",
    "print(\" Estatura Femenino    = {0:.3f}\".format(mu_EF))\n",
    "print(\" Peso Masculino       = {0:.3f}\".format(mu_PM))\n",
    "print(\" Peso Femenino        = {0:.3f}\".format(mu_PF))"
   ]
  },
  {
   "cell_type": "markdown",
   "metadata": {},
   "source": [
    "Para este problema se tiene que considerar una función de distribución de probabilidad para cada atributo , en el caso del nombre se uliza una distribución categórica y para la estatura y el peso una distribución normal dadas por las siguientes expresiones\n",
    "\n",
    "$$\\mathcal{N}(\\vec{x}|\\mu,\\sigma^{2})=\\frac{1}{(2\\pi\\sigma)^{1/2}}e^{-\\frac{1}{2\\sigma^{2}}(x-\\mu)^{2}} \\qquad f(x;\\vec{q})=\\prod_{\\kappa=1}^{K}q_{\\kappa}^{[x=\\kappa]}$$\n",
    "\n",
    "donde los estimadores de la distribución categórica están dado por \n",
    "\n",
    "$$\\hat{q}_{\\kappa} = \\frac{c_{\\kappa}}{n},\\qquad c_{\\kappa}=\\sum_{i=1}^{n}[x=\\kappa]$$\n",
    "\n",
    "\n",
    "Luego se plantea el uso del clasificador como sigue \n",
    "\n",
    "$$C= \\underset{C\\in\\{Nomb,Est,peso\\}}{\\mathrm{ArgMax}} \\left[ P(C)\\prod_{n=1}^{N}\\mathcal{N}(x_{n}|\\mu,\\sigma_{2})q_{n}^{[x=n]}\\right], \\qquad c_{n} = \\sum_{i=1}^{n}[x=n] $$\n",
    "\n",
    "En donde $P(C)$ sigue una distribución binomial dado que se debe elegir entre \"Masculino\" y \"Femenino\".\n",
    "\n",
    "Se costruye la función que hace la comparacion entre los clasificadores y se define una matriz que contiene los datos que se deben predecir \n",
    "\n",
    "\n",
    "\n",
    "\n"
   ]
  },
  {
   "cell_type": "code",
   "execution_count": 9,
   "metadata": {},
   "outputs": [],
   "source": [
    "def MVE(x):\n",
    "   InCMdata = x[0] in qM_prov; InCFdata = x[0] in qF_prov\n",
    "   CM = 0; CF = 0\n",
    "   \n",
    "   if InCMdata == True:\n",
    "      CM = (NM/NT)*np.prod(N(x[1:],mu[:2],std[:2]))*qM_prov[str(x[0])]/NM\n",
    "   if InCFdata == True:\n",
    "      CF = (NF/NT)*np.prod(N(x[1:],mu[2:4],std[2:4]))*qF_prov[str(x[0])]/NF\n",
    "   clases = {CM:\"Masculino\",CF:\"Femenino\"}\n",
    "   return x,clases[max(CM,CF)],CM,CF\n",
    "\n",
    "#Muestra para predecir \n",
    "X_p =  [[\"Rene\",1.68,65.],\n",
    "             [\"Guadalupe\",1.75,80.],\n",
    "             [\"Denis\",1.80,79.],\n",
    "             [\"Alex\",1.90,85.],\n",
    "             [\"Cris\",1.65,70]]"
   ]
  },
  {
   "cell_type": "markdown",
   "metadata": {},
   "source": [
    "Ahora se presentan las predicciones que proporciona el modelo  usando EMV\n"
   ]
  },
  {
   "cell_type": "code",
   "execution_count": 11,
   "metadata": {},
   "outputs": [
    {
     "name": "stdout",
     "output_type": "stream",
     "text": [
      "(['Rene', 1.68, 65.0], 'Femenino', 0, 0.024617189167210275)\n",
      "(['Guadalupe', 1.75, 80.0], 'Femenino', 0.03453817661333737, 2.2776213815668176)\n",
      "(['Denis', 1.8, 79.0], 'Femenino', 0.03863089376964986, 2.4307667134297692)\n",
      "(['Alex', 1.9, 85.0], 'Femenino', 19.818789779153725, 392.27808779856326)\n",
      "(['Cris', 1.65, 70], 'Masculino', 7.295540261399398, 0.03803909213190314)\n",
      " \n"
     ]
    }
   ],
   "source": [
    "for i in range(len(X_p)):\n",
    "   print(MVE(X_p[i]))\n",
    "\n",
    "print(\" \")"
   ]
  },
  {
   "cell_type": "markdown",
   "metadata": {},
   "source": [
    "En lo que sigue se debe calcular las constantes para el MAP, que vienen dadas por \n",
    "\n",
    "$$\\hat{\\mu} = \\frac{\\sigma_{o}^{2}\\left(\\sum_{i=1}^{n}x^{(i)}\\right)-\\sigma^{2}\\mu_{o}}{\\sigma^{2}_{o}n+\\sigma^{2}}\\qquad \\text{Distribución normal}$$\n",
    "\n",
    "$$\\hat{q}_{k} = \\frac{c_{k}+\\alpha_{k}-1}{n+\\sum_{k=1}^{K}\\alpha_{k} - K} \\qquad \\text{Distribución categórica}$$\n",
    "\n",
    "Ahora se calculan estos parámetros\n"
   ]
  },
  {
   "cell_type": "code",
   "execution_count": 30,
   "metadata": {},
   "outputs": [
    {
     "name": "stdout",
     "output_type": "stream",
     "text": [
      "Estatura Masculino   = 1.767078321148749\n",
      "Peso Masculino       = 69.05296940116787\n",
      "Estatura Femenino    = 1.6168825823917028\n",
      "Peso Femenino        = 51.48287713140879\n"
     ]
    }
   ],
   "source": [
    "mu_EM2 = (sigmaoEM_2*sum(Mas[::,-2])+(std_EM**2)*muoEM)/(sigmaoEM_2*NM + std_EM**2)\n",
    "mu_EF2 = (sigmaoEF_2*sum(Fem[::,-2])+(std_EF**2)*muoEF)/(sigmaoEF_2*NF + std_EF**2)\n",
    "mu_PM2 = (sigmaoPM_2*sum(Mas[::,-1])+(std_EM**2)*muoPM)/(sigmaoPM_2*NM + std_PM**2)\n",
    "mu_PF2 = (sigmaoPF_2*sum(Fem[::,-1])+(std_EF**2)*muoPF)/(sigmaoPF_2*NF + std_PF**2)\n",
    "\n",
    "mu2 = np.array([mu_EM2,mu_PM2,mu_EF2,mu_PF2])\n",
    "print(\"Estatura Masculino   = {}\".format(mu2[0]))\n",
    "print(\"Peso Masculino       = {}\".format(mu2[1]))\n",
    "print(\"Estatura Femenino    = {}\".format(mu2[2]))\n",
    "print(\"Peso Femenino        = {}\".format(mu2[3]))\n",
    "\n",
    "qM_prov = {q_M[0][i]:q_M[1][i] for i in range(len(q_M[0]))}\n",
    "qF_prov = {q_F[0][i]:q_F[1][i] for i in range(len(q_F[0]))}\n",
    "\n"
   ]
  },
  {
   "cell_type": "markdown",
   "metadata": {},
   "source": [
    "Los parámetros de la categórica se implementan dentro de la funcion de estimación"
   ]
  },
  {
   "cell_type": "code",
   "execution_count": 31,
   "metadata": {},
   "outputs": [],
   "source": [
    "def MAP(x):\n",
    "   InCMdata = x[0] in qM_prov; InCFdata = x[0] in qF_prov\n",
    "   CM = 0; CF = 0\n",
    "   \n",
    "   if InCMdata == True:\n",
    "      CM = (NM/NT)*np.prod(N(x[1:],mu2[:2],std[:2]))*(qM_prov[str(x[0])]+alpha-1)/(NM+alpha*NM-NM)\n",
    "   if InCFdata == True:\n",
    "      CF = (NF/NT)*np.prod(N(x[1:],mu2[2:4],std[2:4]))*(qF_prov[str(x[0])]+alpha-1)/(NF+alpha*NF-NF)\n",
    "   clases = {CM:\"Masculino\",CF:\"Femenino\"}\n",
    "   return x,clases[max(CM,CF)],CM,CF"
   ]
  },
  {
   "cell_type": "markdown",
   "metadata": {},
   "source": [
    "Se hace la predicción de los datos propuestos por el ejercicio"
   ]
  },
  {
   "cell_type": "code",
   "execution_count": 32,
   "metadata": {},
   "outputs": [
    {
     "name": "stdout",
     "output_type": "stream",
     "text": [
      "(['Rene', 1.68, 65.0], 'Femenino', 0, 0.06791228839361729)\n",
      "(['Guadalupe', 1.75, 80.0], 'Femenino', 1.3931693913720178, 21.71152757385047)\n",
      "(['Denis', 1.8, 79.0], 'Femenino', 0.8736988274721701, 28.202435888090267)\n",
      "(['Alex', 1.9, 85.0], 'Masculino', 10959.21442120047, 8503.619880250359)\n",
      "(['Cris', 1.65, 70], 'Masculino', 0.8864686998045899, 0.17281196558926418)\n",
      " \n"
     ]
    }
   ],
   "source": [
    "for i in range(len(X_p)):\n",
    "   print(MAP(X_p[i]))\n",
    "print(\" \")"
   ]
  },
  {
   "cell_type": "markdown",
   "metadata": {},
   "source": [
    "# 2. Spam \n",
    "\n",
    "Dado el conjunto de datos \"spam.csv\" y realiza los siguientes ejercicios. El archivo *spam.csv* contiene 2001 valores por cada renglon de los cuales los primeros 2000 representan el histograma de palabras de un correo y el último corresponde a la clase , esto es, 1 si es spam y 0 si no lo es \n",
    "\n",
    "Esta es la base de datos, los extraemos y ponemos en forma adecuada para trabajar con numpy "
   ]
  },
  {
   "cell_type": "code",
   "execution_count": 191,
   "metadata": {},
   "outputs": [],
   "source": [
    "df = pd.read_csv(\"spam.csv\")\n",
    "data = df.to_numpy()\n",
    "\n",
    "x = []\n",
    "for i in range(len(data)):\n",
    "    x.append(np.array([float(i) for i in data[i][0].split()]))\n",
    "x = np.array(x)\n",
    "\n"
   ]
  },
  {
   "cell_type": "markdown",
   "metadata": {},
   "source": [
    "* Reporta el porcentaje de correos que están etiquetados como spam y como no spam"
   ]
  },
  {
   "cell_type": "code",
   "execution_count": 192,
   "metadata": {},
   "outputs": [
    {
     "name": "stdout",
     "output_type": "stream",
     "text": [
      "Porcentaje de corres Spam            = 0.290\n",
      "Porcentaje de corres que no son Spam = 0.710\n"
     ]
    }
   ],
   "source": [
    "Num_Spam = sum(x[:,-1] == True)\n",
    "Num_NSpam = sum(x[:,-1] == False)\n",
    "\n",
    "print(\"Porcentaje de corres Spam            = {0:.3f}\".format(Num_Spam/len(data)))\n",
    "print(\"Porcentaje de corres que no son Spam = {0:.3f}\".format(Num_NSpam/len(data)))\n"
   ]
  },
  {
   "cell_type": "markdown",
   "metadata": {},
   "source": [
    "* Divide aleatoriamente el conjunto de datos en el 70% para entrenamiento y el 30% restante para validación usando 0 como semilla para tu generador de n"
   ]
  },
  {
   "cell_type": "code",
   "execution_count": 193,
   "metadata": {},
   "outputs": [],
   "source": [
    "# Reorganizacion de las listas\n",
    "x = np.random.permutation(x)\n",
    "#eleccion de los datos de entrenamiento \n",
    "x_train = x[0:int(len(x)*0.7)]\n",
    "x_val = x[int(len(x)*0.7)-1:-1]"
   ]
  },
  {
   "cell_type": "markdown",
   "metadata": {},
   "source": [
    "* Entrena 2 clasificadores bayesianos ingenuos con distintas distribuciones \n",
    "\n",
    "vamos a ver que tipos de clases tenemos , para poder calcular los parametros de cada clase separamos en dos grupos, los que son spam y los que no para calcular los respectivos $q_{k}$ de cada clase"
   ]
  },
  {
   "cell_type": "code",
   "execution_count": 194,
   "metadata": {},
   "outputs": [],
   "source": [
    "NS = sum(x_train[:,-1] == True)\n",
    "NNS = sum(x_train[:,-1] == False)\n",
    "Nt = len(x_train) \n",
    "\n",
    "spam_train  = x_train[x_train[:,-1]==1][:,0:-1]\n",
    "Nspam_train = x_train[x_train[:,-1]==0][:,0:-1]\n",
    "\n"
   ]
  },
  {
   "cell_type": "markdown",
   "metadata": {},
   "source": [
    "Asumimos que en nuestro problema las clases se distribuyen como una distribucion Bernoulli dado por \n",
    "\n",
    "$$P(C) = q^{C}(1-q)^{1-C} \\qquad \\hat{q}_{C}=\\frac{N_{c}}{N}$$\n",
    "\n",
    "esto para cada clase será"
   ]
  },
  {
   "cell_type": "code",
   "execution_count": 195,
   "metadata": {},
   "outputs": [
    {
     "name": "stdout",
     "output_type": "stream",
     "text": [
      "Estimador clase spam    = 0.288\n",
      "Estimador clase no spam = 0.712\n"
     ]
    }
   ],
   "source": [
    "qs = NS/Nt\n",
    "qns = NNS/Nt\n",
    "\n",
    "print(\"Estimador clase spam    = {0:.3f}\".format(qs))\n",
    "print(\"Estimador clase no spam = {0:.3f}\".format(qns))"
   ]
  },
  {
   "cell_type": "markdown",
   "metadata": {},
   "source": [
    "Ahora se estiman las verosimilitudes asumiendo que los datos se distribuyen como una multinomial dada por la siguiente expresión \n",
    "\n",
    "$$P(x|C) = \\frac{n!}{\\prod_{t=1}^{|v|}}\\prod_{t=1}^{|v|}q(w_{t}|C)^{x_{t}}$$\n",
    "\n",
    "Sin embargo, podemos ignorar el término de normalización para calcular la siguiente expresión\n",
    "\n",
    "$$P(x|C) \\propto \\prod_{t=1}^{|v|}q(w_{t}|C)^{x_{t}} $$\n",
    "\n",
    "Para estimar cada parametro de cada clase tenemos que tener en cuenta la frecuencia de la palabra en cada clase dadas por $n_{c}(w_{t})$\n",
    "\n",
    "$$\\hat{q}(w_{t}|C) = \\frac{n_{C}(w_{t})}{\\sum_{s=1}^{|V|}n_{C}(w_{t})}$$\n",
    "\n",
    "Se cuenta el número de ocurrencias de las palabras en las clases $n_{C}(w_{t})$"
   ]
  },
  {
   "cell_type": "code",
   "execution_count": 196,
   "metadata": {},
   "outputs": [
    {
     "name": "stdout",
     "output_type": "stream",
     "text": [
      "4.815742914037902e-99\n",
      "0.0\n",
      "4.815742914037902e-99\n"
     ]
    }
   ],
   "source": [
    "pst = spam_train.sum(axis=0)/spam_train.sum()\n",
    "pNst = Nspam_train.sum(axis=0)/Nspam_train.sum()\n",
    "\n",
    "print(qs*np.power(pst,x_val[0][:-1]).prod())\n",
    "print(qns*np.power(pNst,x_val[0][:-1]).prod())\n",
    "print(max(qs*np.power(pst,x_val[0][:-1]).prod(),qns*np.power(pNst,x_val[0][:-1]).prod()))"
   ]
  },
  {
   "cell_type": "markdown",
   "metadata": {},
   "source": [
    "Se construye el clasificador asumiendo que le entra un renglon que representa un correo, que es el histograma de palabras\n"
   ]
  },
  {
   "cell_type": "code",
   "execution_count": 197,
   "metadata": {},
   "outputs": [],
   "source": [
    "def Clasificador(x):\n",
    "    x_t = x[:-1]\n",
    "    Cs = qs*np.power(pst,x).prod()\n",
    "    CNs = qns*np.power(pNst,x).prod()\n",
    "    clases={Cs:1.0,CNs:0.0}\n",
    "    return clases[max(Cs,CNs)]"
   ]
  },
  {
   "cell_type": "markdown",
   "metadata": {},
   "source": [
    "Se verifica el grupo de validación corroborando cuantos casos se acierta en la predicción dada la etiqueta de los datos de validacion \n"
   ]
  },
  {
   "cell_type": "code",
   "execution_count": 198,
   "metadata": {},
   "outputs": [
    {
     "data": {
      "text/plain": [
       "0.9207474226804123"
      ]
     },
     "execution_count": 198,
     "metadata": {},
     "output_type": "execute_result"
    }
   ],
   "source": [
    "xprueba = []\n",
    "for i in range(len(x_val)):\n",
    "    xprueba.append(Clasificador(x_val[i][:-1]))\n",
    "    \n",
    "sum(xprueba==x_val[::,-1])/len(x_val)"
   ]
  },
  {
   "cell_type": "code",
   "execution_count": 189,
   "metadata": {},
   "outputs": [
    {
     "data": {
      "text/plain": [
       "array([ True,  True,  True, ...,  True,  True,  True])"
      ]
     },
     "execution_count": 189,
     "metadata": {},
     "output_type": "execute_result"
    }
   ],
   "source": [
    "xprueba==x_val[::,-1]"
   ]
  },
  {
   "cell_type": "code",
   "execution_count": null,
   "metadata": {},
   "outputs": [],
   "source": []
  },
  {
   "cell_type": "markdown",
   "metadata": {},
   "source": [
    "* Emplea los clasificadores entrenados para predecir \"Spam\" tanto en los datos de entrenamiento como en los de validación y reporta el porcentaje de predicciones de cada clasificador."
   ]
  },
  {
   "cell_type": "code",
   "execution_count": 78,
   "metadata": {},
   "outputs": [
    {
     "data": {
      "text/plain": [
       "array([[0.00, 0.00, 0.00, ..., 0.00, 0.00, 0.00],\n",
       "       [0.00, 0.00, 0.00, ..., 0.00, 0.00, 0.00],\n",
       "       [0.00, 0.00, 0.00, ..., 0.00, 1.00, 0.00],\n",
       "       ...,\n",
       "       [1.00, 0.00, 0.00, ..., 0.00, 0.00, 0.00],\n",
       "       [0.00, 0.00, 0.00, ..., 0.00, 0.00, 0.00],\n",
       "       [0.00, 0.00, 0.00, ..., 0.00, 0.00, 0.00]])"
      ]
     },
     "execution_count": 78,
     "metadata": {},
     "output_type": "execute_result"
    }
   ],
   "source": [
    "spam_train"
   ]
  },
  {
   "cell_type": "markdown",
   "metadata": {},
   "source": [
    "* Discute el desempeño de los clasificadores "
   ]
  },
  {
   "cell_type": "code",
   "execution_count": 70,
   "metadata": {},
   "outputs": [
    {
     "data": {
      "text/plain": [
       "array([[0.83, 0.02, 0.09, 0.22],\n",
       "       [0.04, 0.23, 0.30, 0.92],\n",
       "       [0.20, 0.30, 0.25, 0.86],\n",
       "       [0.49, 0.61, 0.93, 0.00]])"
      ]
     },
     "execution_count": 70,
     "metadata": {},
     "output_type": "execute_result"
    }
   ],
   "source": [
    "Y = np.random.rand(4,4)\n",
    "Y"
   ]
  },
  {
   "cell_type": "code",
   "execution_count": null,
   "metadata": {},
   "outputs": [],
   "source": []
  },
  {
   "cell_type": "code",
   "execution_count": null,
   "metadata": {},
   "outputs": [],
   "source": []
  },
  {
   "cell_type": "code",
   "execution_count": null,
   "metadata": {},
   "outputs": [],
   "source": []
  },
  {
   "cell_type": "code",
   "execution_count": 106,
   "metadata": {},
   "outputs": [],
   "source": [
    "x = []\n",
    "for i in range(len(data)):\n",
    "    x.append(np.array([float(i) for i in data[i][0].split()]))\n",
    "x = np.array(x)"
   ]
  },
  {
   "cell_type": "code",
   "execution_count": 249,
   "metadata": {},
   "outputs": [
    {
     "name": "stdout",
     "output_type": "stream",
     "text": [
      "0.28969251595436085\n",
      "0.7103074840456391\n"
     ]
    }
   ],
   "source": [
    "Num_Spam = sum(x[:,-1] == True)\n",
    "Num_NSpam = sum(x[:,-1] == False)\n",
    "\n",
    "print(Num_Spam/len(data))\n",
    "print(Num_NSpam/len(data))\n",
    "\n",
    "# Reorganizacion de las listas\n",
    "x = np.random.permutation(x)\n",
    "#eleccion de los datos de entrenamiento \n",
    "x_train = x[0:int(len(x)*0.7)]\n",
    "x_val = x[int(len(x)*0.7)-1:-1]\n",
    "\n"
   ]
  },
  {
   "cell_type": "markdown",
   "metadata": {},
   "source": []
  },
  {
   "cell_type": "code",
   "execution_count": 281,
   "metadata": {},
   "outputs": [],
   "source": [
    "spam_train  = x_train[x_train[:,-1]==1][:,0:-1]\n",
    "Nspam_train = x_train[x_train[:,-1]==0][:,0:-1]\n"
   ]
  },
  {
   "cell_type": "code",
   "execution_count": 308,
   "metadata": {},
   "outputs": [
    {
     "data": {
      "text/plain": [
       "(array([ 0.,  1.,  2.,  3.,  4.,  6.,  8., 10., 13., 14., 42., 43., 48.,\n",
       "        51.]),\n",
       " array([725, 210,  93,  18,   2,   1,   2,   1,   1,   1,   1,   1,   1,\n",
       "          1]))"
      ]
     },
     "execution_count": 308,
     "metadata": {},
     "output_type": "execute_result"
    }
   ],
   "source": [
    "np.unique(spam_train[:,0,],return_counts = True)"
   ]
  },
  {
   "cell_type": "code",
   "execution_count": 271,
   "metadata": {},
   "outputs": [
    {
     "data": {
      "text/plain": [
       "array([[1., 0.],\n",
       "       [0., 0.],\n",
       "       [1., 0.],\n",
       "       ...,\n",
       "       [0., 0.],\n",
       "       [0., 0.],\n",
       "       [0., 0.]])"
      ]
     },
     "execution_count": 271,
     "metadata": {},
     "output_type": "execute_result"
    }
   ],
   "source": [
    "spam_train"
   ]
  },
  {
   "cell_type": "code",
   "execution_count": 256,
   "metadata": {},
   "outputs": [
    {
     "data": {
      "text/plain": [
       "array([[0, 1, 2],\n",
       "       [3, 4, 5],\n",
       "       [6, 7, 8]])"
      ]
     },
     "execution_count": 256,
     "metadata": {},
     "output_type": "execute_result"
    }
   ],
   "source": [
    "y"
   ]
  },
  {
   "cell_type": "code",
   "execution_count": 287,
   "metadata": {},
   "outputs": [
    {
     "data": {
      "text/plain": [
       "array([0, 3, 6])"
      ]
     },
     "execution_count": 287,
     "metadata": {},
     "output_type": "execute_result"
    }
   ],
   "source": [
    "y[:,0,]"
   ]
  },
  {
   "cell_type": "code",
   "execution_count": 233,
   "metadata": {},
   "outputs": [
    {
     "data": {
      "text/plain": [
       "array([[False],\n",
       "       [ True],\n",
       "       [False]])"
      ]
     },
     "execution_count": 233,
     "metadata": {},
     "output_type": "execute_result"
    }
   ],
   "source": [
    "y = arr\n",
    "y[:,-1:]==5"
   ]
  },
  {
   "cell_type": "code",
   "execution_count": 246,
   "metadata": {},
   "outputs": [
    {
     "data": {
      "text/plain": [
       "(array([0., 1., 2., 3.]), array([1976,   22,    2,    1]))"
      ]
     },
     "execution_count": 246,
     "metadata": {},
     "output_type": "execute_result"
    }
   ],
   "source": [
    "np.unique(Num_spam[3], return_counts =True)"
   ]
  },
  {
   "cell_type": "code",
   "execution_count": 217,
   "metadata": {},
   "outputs": [
    {
     "name": "stdout",
     "output_type": "stream",
     "text": [
      "112\n",
      "277\n"
     ]
    }
   ],
   "source": [
    "for i in range(len(x[0])):\n",
    "    if x[0][i] == 7:\n",
    "        print(i)"
   ]
  },
  {
   "cell_type": "code",
   "execution_count": null,
   "metadata": {},
   "outputs": [],
   "source": []
  },
  {
   "cell_type": "code",
   "execution_count": null,
   "metadata": {},
   "outputs": [],
   "source": []
  },
  {
   "cell_type": "code",
   "execution_count": null,
   "metadata": {},
   "outputs": [],
   "source": []
  },
  {
   "cell_type": "code",
   "execution_count": null,
   "metadata": {},
   "outputs": [],
   "source": []
  },
  {
   "cell_type": "code",
   "execution_count": null,
   "metadata": {},
   "outputs": [],
   "source": []
  },
  {
   "cell_type": "markdown",
   "metadata": {},
   "source": [
    "# 3. Cáncer de seno \n",
    "\n",
    "Divide aleatoriamente el conjunto de datos de cancer de serno de Wisconsin en un subconjunto de entrenamiento con el 70% de los datos y un subconjunto de validación con el 30% restante usando 0 como semilla para tu generador de numeros aleatorios. Este conjunto de datos contiene 699 registros de tumores de seno, de los cuales 458 son beningnos y 241 son malignos. Cada registri consta de lo siguientes atributos.\n",
    "\n"
   ]
  },
  {
   "cell_type": "code",
   "execution_count": 34,
   "metadata": {},
   "outputs": [
    {
     "data": {
      "text/html": [
       "<div>\n",
       "<style scoped>\n",
       "    .dataframe tbody tr th:only-of-type {\n",
       "        vertical-align: middle;\n",
       "    }\n",
       "\n",
       "    .dataframe tbody tr th {\n",
       "        vertical-align: top;\n",
       "    }\n",
       "\n",
       "    .dataframe thead th {\n",
       "        text-align: right;\n",
       "    }\n",
       "</style>\n",
       "<table border=\"1\" class=\"dataframe\">\n",
       "  <thead>\n",
       "    <tr style=\"text-align: right;\">\n",
       "      <th></th>\n",
       "      <th>ID</th>\n",
       "      <th>Grosor del tumor</th>\n",
       "      <th>Uniformidad tamaño</th>\n",
       "      <th>forma celula</th>\n",
       "      <th>Adhesion marginal</th>\n",
       "      <th>Tamaño celula epitelial</th>\n",
       "      <th>Nucleos desnudos</th>\n",
       "      <th>Cromatina blanda</th>\n",
       "      <th>Núcleolos normales</th>\n",
       "      <th>Mitosis de celulas</th>\n",
       "      <th>Clase</th>\n",
       "    </tr>\n",
       "  </thead>\n",
       "  <tbody>\n",
       "    <tr>\n",
       "      <td>0</td>\n",
       "      <td>1000025</td>\n",
       "      <td>5</td>\n",
       "      <td>1</td>\n",
       "      <td>1</td>\n",
       "      <td>1</td>\n",
       "      <td>2</td>\n",
       "      <td>1</td>\n",
       "      <td>3</td>\n",
       "      <td>1</td>\n",
       "      <td>1</td>\n",
       "      <td>2</td>\n",
       "    </tr>\n",
       "    <tr>\n",
       "      <td>1</td>\n",
       "      <td>1002945</td>\n",
       "      <td>5</td>\n",
       "      <td>4</td>\n",
       "      <td>4</td>\n",
       "      <td>5</td>\n",
       "      <td>7</td>\n",
       "      <td>10</td>\n",
       "      <td>3</td>\n",
       "      <td>2</td>\n",
       "      <td>1</td>\n",
       "      <td>2</td>\n",
       "    </tr>\n",
       "    <tr>\n",
       "      <td>2</td>\n",
       "      <td>1015425</td>\n",
       "      <td>3</td>\n",
       "      <td>1</td>\n",
       "      <td>1</td>\n",
       "      <td>1</td>\n",
       "      <td>2</td>\n",
       "      <td>2</td>\n",
       "      <td>3</td>\n",
       "      <td>1</td>\n",
       "      <td>1</td>\n",
       "      <td>2</td>\n",
       "    </tr>\n",
       "    <tr>\n",
       "      <td>3</td>\n",
       "      <td>1016277</td>\n",
       "      <td>6</td>\n",
       "      <td>8</td>\n",
       "      <td>8</td>\n",
       "      <td>1</td>\n",
       "      <td>3</td>\n",
       "      <td>4</td>\n",
       "      <td>3</td>\n",
       "      <td>7</td>\n",
       "      <td>1</td>\n",
       "      <td>2</td>\n",
       "    </tr>\n",
       "    <tr>\n",
       "      <td>4</td>\n",
       "      <td>1017023</td>\n",
       "      <td>4</td>\n",
       "      <td>1</td>\n",
       "      <td>1</td>\n",
       "      <td>3</td>\n",
       "      <td>2</td>\n",
       "      <td>1</td>\n",
       "      <td>3</td>\n",
       "      <td>1</td>\n",
       "      <td>1</td>\n",
       "      <td>2</td>\n",
       "    </tr>\n",
       "    <tr>\n",
       "      <td>...</td>\n",
       "      <td>...</td>\n",
       "      <td>...</td>\n",
       "      <td>...</td>\n",
       "      <td>...</td>\n",
       "      <td>...</td>\n",
       "      <td>...</td>\n",
       "      <td>...</td>\n",
       "      <td>...</td>\n",
       "      <td>...</td>\n",
       "      <td>...</td>\n",
       "      <td>...</td>\n",
       "    </tr>\n",
       "    <tr>\n",
       "      <td>694</td>\n",
       "      <td>776715</td>\n",
       "      <td>3</td>\n",
       "      <td>1</td>\n",
       "      <td>1</td>\n",
       "      <td>1</td>\n",
       "      <td>3</td>\n",
       "      <td>2</td>\n",
       "      <td>1</td>\n",
       "      <td>1</td>\n",
       "      <td>1</td>\n",
       "      <td>2</td>\n",
       "    </tr>\n",
       "    <tr>\n",
       "      <td>695</td>\n",
       "      <td>841769</td>\n",
       "      <td>2</td>\n",
       "      <td>1</td>\n",
       "      <td>1</td>\n",
       "      <td>1</td>\n",
       "      <td>2</td>\n",
       "      <td>1</td>\n",
       "      <td>1</td>\n",
       "      <td>1</td>\n",
       "      <td>1</td>\n",
       "      <td>2</td>\n",
       "    </tr>\n",
       "    <tr>\n",
       "      <td>696</td>\n",
       "      <td>888820</td>\n",
       "      <td>5</td>\n",
       "      <td>10</td>\n",
       "      <td>10</td>\n",
       "      <td>3</td>\n",
       "      <td>7</td>\n",
       "      <td>3</td>\n",
       "      <td>8</td>\n",
       "      <td>10</td>\n",
       "      <td>2</td>\n",
       "      <td>4</td>\n",
       "    </tr>\n",
       "    <tr>\n",
       "      <td>697</td>\n",
       "      <td>897471</td>\n",
       "      <td>4</td>\n",
       "      <td>8</td>\n",
       "      <td>6</td>\n",
       "      <td>4</td>\n",
       "      <td>3</td>\n",
       "      <td>4</td>\n",
       "      <td>10</td>\n",
       "      <td>6</td>\n",
       "      <td>1</td>\n",
       "      <td>4</td>\n",
       "    </tr>\n",
       "    <tr>\n",
       "      <td>698</td>\n",
       "      <td>897471</td>\n",
       "      <td>4</td>\n",
       "      <td>8</td>\n",
       "      <td>8</td>\n",
       "      <td>5</td>\n",
       "      <td>4</td>\n",
       "      <td>5</td>\n",
       "      <td>10</td>\n",
       "      <td>4</td>\n",
       "      <td>1</td>\n",
       "      <td>4</td>\n",
       "    </tr>\n",
       "  </tbody>\n",
       "</table>\n",
       "<p>699 rows × 11 columns</p>\n",
       "</div>"
      ],
      "text/plain": [
       "         ID   Grosor del tumor  Uniformidad tamaño  forma celula  \\\n",
       "0    1000025                 5                   1             1   \n",
       "1    1002945                 5                   4             4   \n",
       "2    1015425                 3                   1             1   \n",
       "3    1016277                 6                   8             8   \n",
       "4    1017023                 4                   1             1   \n",
       "..       ...               ...                 ...           ...   \n",
       "694   776715                 3                   1             1   \n",
       "695   841769                 2                   1             1   \n",
       "696   888820                 5                  10            10   \n",
       "697   897471                 4                   8             6   \n",
       "698   897471                 4                   8             8   \n",
       "\n",
       "     Adhesion marginal  Tamaño celula epitelial Nucleos desnudos  \\\n",
       "0                    1                        2                1   \n",
       "1                    5                        7               10   \n",
       "2                    1                        2                2   \n",
       "3                    1                        3                4   \n",
       "4                    3                        2                1   \n",
       "..                 ...                      ...              ...   \n",
       "694                  1                        3                2   \n",
       "695                  1                        2                1   \n",
       "696                  3                        7                3   \n",
       "697                  4                        3                4   \n",
       "698                  5                        4                5   \n",
       "\n",
       "     Cromatina blanda  Núcleolos normales  Mitosis de celulas  Clase  \n",
       "0                   3                   1                   1      2  \n",
       "1                   3                   2                   1      2  \n",
       "2                   3                   1                   1      2  \n",
       "3                   3                   7                   1      2  \n",
       "4                   3                   1                   1      2  \n",
       "..                ...                 ...                 ...    ...  \n",
       "694                 1                   1                   1      2  \n",
       "695                 1                   1                   1      2  \n",
       "696                 8                  10                   2      4  \n",
       "697                10                   6                   1      4  \n",
       "698                10                   4                   1      4  \n",
       "\n",
       "[699 rows x 11 columns]"
      ]
     },
     "execution_count": 34,
     "metadata": {},
     "output_type": "execute_result"
    }
   ],
   "source": [
    "Names = [\"ID \",\"Grosor del tumor\",\"Uniformidad tamaño\",\n",
    "            \"forma celula\",\"Adhesion marginal\",\"Tamaño celula epitelial\",\n",
    "            \"Nucleos desnudos\",\"Cromatina blanda\",\"Núcleolos normales\",\n",
    "           \"Mitosis de celulas\",\"Clase\"]\n",
    "df1 = pd.read_csv(\"breast-cancer-wisconsin.data\",names =Names)\n",
    "df1\n"
   ]
  },
  {
   "cell_type": "markdown",
   "metadata": {},
   "source": [
    "Entrena un clasificador Bayesiano ingenuo de tumores de seno y evalúalo tanto con el subconjunto de entrenamiento como con el subjconjunto de validación y discute su desempeño. Existen 16 registros en el conjunto de datos con un atributo no especificado.  Investiga estrategias para rellenar los datos faltantes, utiliza las que consideres más adecuadas para este problema y discute el impacto en el desempeño del clasificador.\n",
    "\n",
    "___\n"
   ]
  },
  {
   "cell_type": "markdown",
   "metadata": {},
   "source": [
    "Se trabaja con arreglos de numpy para alguno calculos numéricos , luego se cambia el orden de los datos. En principio se entrena un clasificador sin los datos faltantes para tenerlo como referencia y ver si queda bien hecho el clasificador sto se hace identificando los datos inexistentes, utilizando la función *where* que retorna la columna y el indice en donde  existe un dato identificado como \"?\", que se debe rellenar antes de poder calcular los estimadores del clasificador bayesiano ingenuo "
   ]
  },
  {
   "cell_type": "code",
   "execution_count": null,
   "metadata": {},
   "outputs": [],
   "source": [
    "data = df1.to_numpy()"
   ]
  },
  {
   "cell_type": "code",
   "execution_count": 1051,
   "metadata": {},
   "outputs": [],
   "source": [
    "data = np.random.permutation(data)\n",
    "index = np.where(data == \"?\")\n",
    "data_ref = np.delete(data,index,axis=0)\n",
    "\n",
    "x_train = data_ref[0:int(len(data_ref)*0.7)]  #70% entrenamiento\n",
    "x_val = data_ref[int(len(data_ref)*0.7)-1:-1] #30% validacion\n",
    "x_val = x_val.astype(np.float)\n",
    "\n",
    "# correcion de tipo de datos en la 6 columna para trabajar con float\n",
    "x_val[:,6] = x_val[:,6].astype(np.float) "
   ]
  },
  {
   "cell_type": "markdown",
   "metadata": {},
   "source": [
    "Lo que se hace ahora es clasificar en dos grupos de datos, los pertenecientes al grupo Beningno que se identifican con el valor \"2\" y otro del grupo Maligno identificado con el \"4\". Esto con el fin de calcular los estimadores correspondientes a cada clase de cada atributo.\n",
    "\n"
   ]
  },
  {
   "cell_type": "code",
   "execution_count": 1052,
   "metadata": {},
   "outputs": [
    {
     "name": "stdout",
     "output_type": "stream",
     "text": [
      "Numero de Tumores Beningnos = 170\n",
      "Numero de Tumores Malignos  = 307\n",
      "Numero datos totales entrenamiento = 477\n"
     ]
    }
   ],
   "source": [
    "Benigno = x_train[x_train[:,-1]==4]\n",
    "Benigno[:,6] = Benigno[:,6].astype(np.float) \n",
    "\n",
    "Maligno = x_train[x_train[:,-1]==2]\n",
    "Maligno[:,6] = Maligno[:,6].astype(np.float) \n",
    "\n",
    "NB_ref = len(Benigno)\n",
    "NM_ref = len(Maligno)\n",
    "NT = NB_ref + NM_ref\n",
    "\n",
    "\n",
    "print(\"Numero de Tumores Beningnos = {}\".format(NB_ref))\n",
    "print(\"Numero de Tumores Malignos  = {}\".format(NM_ref))\n",
    "print(\"Numero datos totales entrenamiento = {}\".format(NT))\n"
   ]
  },
  {
   "cell_type": "markdown",
   "metadata": {},
   "source": [
    "En este caso vamos a muestrear nuestros valores pertenecientes a cada atributo asumiendo que siguen una distribución normal dada por \n",
    "\n",
    "$$\\mathcal{N}(\\vec{x}|\\mu,\\sigma^{2})=\\frac{1}{(2\\pi\\sigma)^{1/2}}e^{-\\frac{1}{2\\sigma^{2}}(x-\\mu)^{2}}$$\n",
    "\n",
    "Suponemos que el conjunto de observaciones de los atributos de las variables se distribuyen de manera uniforme y son independientes entre si. Vemos que la probabilidad conjunta de dos eventos independientes está dada por el producto de las probabilidades marginales para cada evento por separa, esto se representa de la siguiente \n",
    "\n",
    "$$P(\\vec{x}|\\mu,\\sigma^{2}) = \\prod_{n=1}^{N}\\mathcal{N}(x_{n}|\\mu,\\sigma_{2})$$\n",
    "\n",
    "luego los clasificadores se calculan de la siguiente manera \n",
    "\n",
    "$$C= \\underset{C\\in\\{Spam,NoSpam\\}}{\\mathrm{ArgMax}} \\left[ P(C)\\prod_{n=1}^{N}\\mathcal{N}(x_{n}|\\mu,\\sigma_{2})\\right] $$\n",
    "\n",
    "Utilizando el estimador de máxima verosimilitud los parámetros de la distribución son el promedio y la varianza, dadas por \n",
    "\n",
    "$$\\hat{\\mu}_{EMV} = \\frac{1}{n}\\sum_{i=1}^{n}x^{(i)}\\qquad \\hat{\\sigma}^{2}_{EMV} = \\frac{1}{n}(x^{(i)}-\\hat{\\mu}_{EMV})^{2}$$\n",
    "\n",
    "Entonces podemos calcular estos parámetros de la siguiente forma"
   ]
  },
  {
   "cell_type": "code",
   "execution_count": 1053,
   "metadata": {},
   "outputs": [],
   "source": [
    "#Calculo de los parámetros de cada clase\n",
    "\n",
    "muM = [np.mean(Maligno[:,1:-1][:,i]) for i in range(np.shape(Maligno[:,1:-1])[1])]\n",
    "muM = np.array(muM)\n",
    "stdM = [np.std(Maligno[:,1:-1][:,i]) for i in range(np.shape(Maligno[:,1:-1])[1])]\n",
    "stdM = np.array(std)\n",
    "\n",
    "muB = [np.mean(Benigno[:,1:-1][:,i]) for i in range(np.shape(Benigno[:,1:-1])[1])]\n",
    "muB = np.array(muB)\n",
    "stdB = [np.std(Benigno[:,1:-1][:,i]) for i in range(np.shape(Benigno[:,1:-1])[1])]\n",
    "stdB = np.array(stdB)"
   ]
  },
  {
   "cell_type": "markdown",
   "metadata": {},
   "source": [
    "Estos son los parámetros obtenidos para cada atributo de cada grupo de datos "
   ]
  },
  {
   "cell_type": "code",
   "execution_count": 1054,
   "metadata": {},
   "outputs": [
    {
     "name": "stdout",
     "output_type": "stream",
     "text": [
      "promedio Beningno =[7.15 6.68 6.59 5.75 5.41 7.66 6.06 5.96 2.54]\n",
      "promedio Maligno  =[2.93 1.29 1.40 1.37 2.14 1.38 2.12 1.28 1.07]\n",
      "desviacion Beningno =[2.45 2.77 2.66 3.24 2.42 3.11 2.28 3.28 2.50]\n",
      "desviacion Maligno  =[2.44 2.70 2.61 3.21 2.44 3.06 2.27 3.38 2.57]\n"
     ]
    }
   ],
   "source": [
    "# promedio\n",
    "print(\"promedio Beningno ={}\".format(muB))\n",
    "print(\"promedio Maligno  ={}\".format(muM))\n",
    "\n",
    "# desviacion estandar\n",
    "\n",
    "print(\"desviacion Beningno ={}\".format(stdB))\n",
    "print(\"desviacion Maligno  ={}\".format(stdM))\n",
    "\n",
    "\n"
   ]
  },
  {
   "cell_type": "markdown",
   "metadata": {},
   "source": [
    "Ahora se construye una funcion que calcule las constante para cada clase y nos entregue la predicción, por tanto se tiene"
   ]
  },
  {
   "cell_type": "code",
   "execution_count": 1055,
   "metadata": {},
   "outputs": [],
   "source": [
    "def MVE(x):\n",
    "    id_muestra = x[0]\n",
    "    x = x[1:-1]\n",
    "    CB = (NB_ref/NT)*np.prod(N(x,muB,stdB))\n",
    "    CM = (NM_ref/NT)*np.prod(N(x,muM,stdM))\n",
    "    clases={CM:4.0,CB:2.0}\n",
    "    return id_muestra, clases[max(CB,CM)] "
   ]
  },
  {
   "cell_type": "markdown",
   "metadata": {},
   "source": [
    "Ahora vamos a ver una predicción utilizando el conjunto de datos de validación, contando los aciertos de cada uno de los datos que proporciona el conjunto de validación y contrastando con el obtenido por el modelo "
   ]
  },
  {
   "cell_type": "code",
   "execution_count": 1056,
   "metadata": {},
   "outputs": [],
   "source": [
    "def rend(x_val):\n",
    "    val = np.array([MVE(x_val[i]) for i in range(len(x_val))])\n",
    "    y = val[:,-1]  == x_val[:,-1]\n",
    "    return sum(y)/len(x_val)"
   ]
  },
  {
   "cell_type": "code",
   "execution_count": 1063,
   "metadata": {},
   "outputs": [
    {
     "name": "stdout",
     "output_type": "stream",
     "text": [
      "Rendimiento del clasificador = 0.9804878048780488\n"
     ]
    }
   ],
   "source": [
    "print(\"Rendimiento del clasificador = {}\".format(rend(x_val)))"
   ]
  },
  {
   "cell_type": "markdown",
   "metadata": {},
   "source": [
    "Este fue el modelo entrenado para el conjunto de datos que no incluye los datos que contenían \"?\", ahora se buscan propuestas para rellenar los datos faltanes tratando de obtener el mayor rendimiento segun la funcion construida anteriormente. \n",
    "\n",
    "Para esto debemos hacer que haga muchas pruebas en los 16 datos y asi elegir el valor que mas rendimiento de en el clasificador. Se construyen las funciones"
   ]
  },
  {
   "cell_type": "code",
   "execution_count": 1075,
   "metadata": {},
   "outputs": [
    {
     "name": "stdout",
     "output_type": "stream",
     "text": [
      "0.9804878048780488\n",
      "[0 2 6 7 1 4 7 1 8 6 6 9 4 3 4 6]\n"
     ]
    }
   ],
   "source": [
    "def entrenamiento(data,comb):\n",
    "    data = np.random.permutation(data)\n",
    "    index = np.where(data == \"?\")\n",
    "    data[index] = comb\n",
    "\n",
    "\n",
    "    x_train = data[0:int(len(data)*0.7)]  #70% entrenamiento\n",
    "    x_val = data[int(len(data)*0.7)-1:-1] #30% validacion\n",
    "    x_val[:,6] = x_val[:,6].astype(np.float) \n",
    "\n",
    "\n",
    "    Benigno = x_train[x_train[:,-1]==4]\n",
    "    Benigno[:,6] = Benigno[:,6].astype(np.float) \n",
    "\n",
    "    Maligno = x_train[x_train[:,-1]==2]\n",
    "    Maligno[:,6] = Maligno[:,6].astype(np.float) \n",
    "\n",
    "    NB_ref = len(Benigno)\n",
    "    NM_ref = len(Maligno)\n",
    "    NT = NB_ref + NM_ref\n",
    "\n",
    "    muM = [np.mean(Maligno[:,1:-1][:,i]) for i in range(np.shape(Maligno[:,1:-1])[1])]\n",
    "    muM = np.array(muM)\n",
    "    stdM = [np.std(Maligno[:,1:-1][:,i]) for i in range(np.shape(Maligno[:,1:-1])[1])]\n",
    "    stdM = np.array(std)\n",
    "\n",
    "    muB = [np.mean(Benigno[:,1:-1][:,i]) for i in range(np.shape(Benigno[:,1:-1])[1])]\n",
    "    muB = np.array(muB)\n",
    "    stdB = [np.std(Benigno[:,1:-1][:,i]) for i in range(np.shape(Benigno[:,1:-1])[1])]\n",
    "    stdB = np.array(stdB)\n",
    "    \n",
    "    return muM,muB,stdM,stdB\n",
    "\n",
    "comb = np.random.randint(10,size=16)\n",
    "muM,muB,stdM,stdB = entrenamiento(data,comb)\n",
    "print(rend(x_val))\n",
    "print(comb)"
   ]
  },
  {
   "cell_type": "markdown",
   "metadata": {},
   "source": [
    "Con un vector de prueba se calcula el rendimiento, hagamos esto varias veces y elijamos el que tenga el mayor valor o el rendimiento "
   ]
  },
  {
   "cell_type": "code",
   "execution_count": 1081,
   "metadata": {},
   "outputs": [],
   "source": [
    "Rend = []; Comb = []\n",
    "for _ in range(10000):\n",
    "    comb = np.random.randint(10, size=16)\n",
    "    muM,muB,stdM,stdB = entrenamiento(data,comb)\n",
    "    Rend.append(rend(x_val))\n",
    "    Comb.append(comb)\n",
    "    "
   ]
  },
  {
   "cell_type": "code",
   "execution_count": 1084,
   "metadata": {},
   "outputs": [
    {
     "data": {
      "text/plain": [
       "Text(0, 0.5, 'Redimiento')"
      ]
     },
     "execution_count": 1084,
     "metadata": {},
     "output_type": "execute_result"
    },
    {
     "data": {
      "image/png": "[encoded data removed]",
      "text/plain": [
       "<Figure size 432x288 with 1 Axes>"
      ]
     },
     "metadata": {
      "needs_background": "light"
     },
     "output_type": "display_data"
    }
   ],
   "source": [
    "plt.plot(Rend,\"r.\")\n",
    "plt.grid(True)\n",
    "plt.title(\"Valores del modelo\")\n",
    "plt.xlabel(\"Combinaciones\")\n",
    "plt.ylabel(\"Redimiento\")"
   ]
  },
  {
   "cell_type": "code",
   "execution_count": 1088,
   "metadata": {},
   "outputs": [
    {
     "name": "stdout",
     "output_type": "stream",
     "text": [
      "Redimiento maximo = 0.9853658536585366\n",
      "Combinación utilizada [3 4 2 2 4 1 2 2 0 3 3 1 8 8 3 9] \n"
     ]
    }
   ],
   "source": [
    "print(\"Redimiento maximo = {}\".format(Rend[np.argmax(Rend)]))\n",
    "print(\"Combinación utilizada {} \".format(Comb[np.argmax(Rend)]))"
   ]
  }
 ],
 "metadata": {
  "kernelspec": {
   "display_name": "Python 3",
   "language": "python",
   "name": "python3"
  },
  "language_info": {
   "codemirror_mode": {
    "name": "ipython",
    "version": 3
   },
   "file_extension": ".py",
   "mimetype": "text/x-python",
   "name": "python",
   "nbconvert_exporter": "python",
   "pygments_lexer": "ipython3",
   "version": "3.7.4"
  }
 },
 "nbformat": 4,
 "nbformat_minor": 4
}
