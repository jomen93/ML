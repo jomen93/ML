{
 "cells": [
  {
   "cell_type": "code",
   "execution_count": 881,
   "metadata": {},
   "outputs": [],
   "source": [
    "import matplotlib.pyplot as plt \n",
    "import numpy as np\n",
    "import pandas as pd\n",
    "from utils import N\n",
    "\n",
    "np.set_printoptions(formatter={\"float\":\"{:0.2f}\".format})\n",
    "\n",
    "df = pd.read_csv(\"spam.csv\")\n",
    "data = df.to_numpy()\n"
   ]
  },
  {
   "cell_type": "markdown",
   "metadata": {},
   "source": [
    "# Carga de datos "
   ]
  },
  {
   "cell_type": "code",
   "execution_count": 106,
   "metadata": {},
   "outputs": [],
   "source": [
    "x = []\n",
    "for i in range(len(data)):\n",
    "    x.append(np.array([float(i) for i in data[i][0].split()]))\n",
    "x = np.array(x)"
   ]
  },
  {
   "cell_type": "code",
   "execution_count": 249,
   "metadata": {},
   "outputs": [
    {
     "name": "stdout",
     "output_type": "stream",
     "text": [
      "0.28969251595436085\n",
      "0.7103074840456391\n"
     ]
    }
   ],
   "source": [
    "Num_Spam = sum(x[:,-1] == True)\n",
    "Num_NSpam = sum(x[:,-1] == False)\n",
    "\n",
    "print(Num_Spam/len(data))\n",
    "print(Num_NSpam/len(data))\n",
    "\n",
    "# Reorganizacion de las listas\n",
    "x = np.random.permutation(x)\n",
    "#eleccion de los datos de entrenamiento \n",
    "x_train = x[0:int(len(x)*0.7)]\n",
    "x_val = x[int(len(x)*0.7)-1:-1]\n",
    "\n"
   ]
  },
  {
   "cell_type": "markdown",
   "metadata": {},
   "source": [
    "vamos a ver que tipos de clases tenemos , para poder calcular los parametros de cada clase separamos en dos grupos, los que son spam y los que no para calcular los respectivos $q_{k}$ de cada clase"
   ]
  },
  {
   "cell_type": "code",
   "execution_count": 281,
   "metadata": {},
   "outputs": [],
   "source": [
    "spam_train  = x_train[x_train[:,-1]==1][:,0:-1]\n",
    "Nspam_train = x_train[x_train[:,-1]==0][:,0:-1]\n"
   ]
  },
  {
   "cell_type": "code",
   "execution_count": 308,
   "metadata": {},
   "outputs": [
    {
     "data": {
      "text/plain": [
       "(array([ 0.,  1.,  2.,  3.,  4.,  6.,  8., 10., 13., 14., 42., 43., 48.,\n",
       "        51.]),\n",
       " array([725, 210,  93,  18,   2,   1,   2,   1,   1,   1,   1,   1,   1,\n",
       "          1]))"
      ]
     },
     "execution_count": 308,
     "metadata": {},
     "output_type": "execute_result"
    }
   ],
   "source": [
    "np.unique(spam_train[:,0,],return_counts = True)"
   ]
  },
  {
   "cell_type": "code",
   "execution_count": 271,
   "metadata": {},
   "outputs": [
    {
     "data": {
      "text/plain": [
       "array([[1., 0.],\n",
       "       [0., 0.],\n",
       "       [1., 0.],\n",
       "       ...,\n",
       "       [0., 0.],\n",
       "       [0., 0.],\n",
       "       [0., 0.]])"
      ]
     },
     "execution_count": 271,
     "metadata": {},
     "output_type": "execute_result"
    }
   ],
   "source": [
    "spam_train"
   ]
  },
  {
   "cell_type": "code",
   "execution_count": 256,
   "metadata": {},
   "outputs": [
    {
     "data": {
      "text/plain": [
       "array([[0, 1, 2],\n",
       "       [3, 4, 5],\n",
       "       [6, 7, 8]])"
      ]
     },
     "execution_count": 256,
     "metadata": {},
     "output_type": "execute_result"
    }
   ],
   "source": [
    "y"
   ]
  },
  {
   "cell_type": "code",
   "execution_count": 287,
   "metadata": {},
   "outputs": [
    {
     "data": {
      "text/plain": [
       "array([0, 3, 6])"
      ]
     },
     "execution_count": 287,
     "metadata": {},
     "output_type": "execute_result"
    }
   ],
   "source": [
    "y[:,0,]"
   ]
  },
  {
   "cell_type": "code",
   "execution_count": 233,
   "metadata": {},
   "outputs": [
    {
     "data": {
      "text/plain": [
       "array([[False],\n",
       "       [ True],\n",
       "       [False]])"
      ]
     },
     "execution_count": 233,
     "metadata": {},
     "output_type": "execute_result"
    }
   ],
   "source": [
    "y = arr\n",
    "y[:,-1:]==5"
   ]
  },
  {
   "cell_type": "code",
   "execution_count": 246,
   "metadata": {},
   "outputs": [
    {
     "data": {
      "text/plain": [
       "(array([0., 1., 2., 3.]), array([1976,   22,    2,    1]))"
      ]
     },
     "execution_count": 246,
     "metadata": {},
     "output_type": "execute_result"
    }
   ],
   "source": [
    "np.unique(Num_spam[3], return_counts =True)"
   ]
  },
  {
   "cell_type": "code",
   "execution_count": 217,
   "metadata": {},
   "outputs": [
    {
     "name": "stdout",
     "output_type": "stream",
     "text": [
      "112\n",
      "277\n"
     ]
    }
   ],
   "source": [
    "for i in range(len(x[0])):\n",
    "    if x[0][i] == 7:\n",
    "        print(i)"
   ]
  },
  {
   "cell_type": "code",
   "execution_count": null,
   "metadata": {},
   "outputs": [],
   "source": []
  },
  {
   "cell_type": "code",
   "execution_count": null,
   "metadata": {},
   "outputs": [],
   "source": []
  },
  {
   "cell_type": "code",
   "execution_count": null,
   "metadata": {},
   "outputs": [],
   "source": []
  },
  {
   "cell_type": "code",
   "execution_count": null,
   "metadata": {},
   "outputs": [],
   "source": []
  },
  {
   "cell_type": "code",
   "execution_count": null,
   "metadata": {},
   "outputs": [],
   "source": []
  },
  {
   "cell_type": "markdown",
   "metadata": {},
   "source": [
    "# Cancer de Seno \n",
    "\n",
    "Citation Request:\n",
    "   This breast cancer databases was obtained from the University of Wisconsin\n",
    "   Hospitals, Madison from Dr. William H. Wolberg.  If you publish results\n",
    "   when using this database, then please include this information in your\n",
    "   acknowledgements.  Also, please cite one or more of:\n",
    "\n",
    "   1. O. L. Mangasarian and W. H. Wolberg: \"Cancer diagnosis via linear \n",
    "      programming\", SIAM News, Volume 23, Number 5, September 1990, pp 1 & 18.\n",
    "\n",
    "   2. William H. Wolberg and O.L. Mangasarian: \"Multisurface method of \n",
    "      pattern separation for medical diagnosis applied to breast cytology\", \n",
    "      Proceedings of the National Academy of Sciences, U.S.A., Volume 87, \n",
    "      December 1990, pp 9193-9196.\n",
    "\n",
    "   3. O. L. Mangasarian, R. Setiono, and W.H. Wolberg: \"Pattern recognition \n",
    "      via linear programming: Theory and application to medical diagnosis\", \n",
    "      in: \"Large-scale numerical optimization\", Thomas F. Coleman and Yuying\n",
    "      Li, editors, SIAM Publications, Philadelphia 1990, pp 22-30.\n",
    "\n",
    "   4. K. P. Bennett & O. L. Mangasarian: \"Robust linear programming \n",
    "      discrimination of two linearly inseparable sets\", Optimization Methods\n",
    "      and Software 1, 1992, 23-34 (Gordon & Breach Science Publishers).\n",
    "\n",
    "1. Title: Wisconsin Breast Cancer Database (January 8, 1991)\n",
    "\n",
    "2. Sources:\n",
    "   -- Dr. WIlliam H. Wolberg (physician)\n",
    "      University of Wisconsin Hospitals\n",
    "      Madison, Wisconsin\n",
    "      USA\n",
    "   -- Donor: Olvi Mangasarian (mangasarian@cs.wisc.edu)\n",
    "      Received by David W. Aha (aha@cs.jhu.edu)\n",
    "   -- Date: 15 July 1992\n",
    "\n",
    "3. Past Usage:\n",
    "\n",
    "   Attributes 2 through 10 have been used to represent instances.\n",
    "   Each instance has one of 2 possible classes: benign or malignant.\n",
    "\n",
    "   1. Wolberg,~W.~H., \\& Mangasarian,~O.~L. (1990). Multisurface method of \n",
    "      pattern separation for medical diagnosis applied to breast cytology. In\n",
    "      {\\it Proceedings of the National Academy of Sciences}, {\\it 87},\n",
    "      9193--9196.\n",
    "      -- Size of data set: only 369 instances (at that point in time)\n",
    "      -- Collected classification results: 1 trial only\n",
    "      -- Two pairs of parallel hyperplanes were found to be consistent with\n",
    "         50% of the data\n",
    "         -- Accuracy on remaining 50% of dataset: 93.5%\n",
    "      -- Three pairs of parallel hyperplanes were found to be consistent with\n",
    "         67% of data\n",
    "         -- Accuracy on remaining 33% of dataset: 95.9%\n",
    "\n",
    "   2. Zhang,~J. (1992). Selecting typical instances in instance-based\n",
    "      learning.  In {\\it Proceedings of the Ninth International Machine\n",
    "      Learning Conference} (pp. 470--479).  Aberdeen, Scotland: Morgan\n",
    "      Kaufmann.\n",
    "      -- Size of data set: only 369 instances (at that point in time)\n",
    "      -- Applied 4 instance-based learning algorithms \n",
    "      -- Collected classification results averaged over 10 trials\n",
    "      -- Best accuracy result: \n",
    "         -- 1-nearest neighbor: 93.7%\n",
    "         -- trained on 200 instances, tested on the other 169\n",
    "      -- Also of interest:\n",
    "         -- Using only typical instances: 92.2% (storing only 23.1 instances)\n",
    "         -- trained on 200 instances, tested on the other 169\n",
    "\n",
    "4. Relevant Information:\n",
    "\n",
    "   Samples arrive periodically as Dr. Wolberg reports his clinical cases.\n",
    "   The database therefore reflects this chronological grouping of the data.\n",
    "   This grouping information appears immediately below, having been removed\n",
    "   from the data itself:\n",
    "\n",
    "     Group 1: 367 instances (January 1989)\n",
    "     Group 2:  70 instances (October 1989)\n",
    "     Group 3:  31 instances (February 1990)\n",
    "     Group 4:  17 instances (April 1990)\n",
    "     Group 5:  48 instances (August 1990)\n",
    "     Group 6:  49 instances (Updated January 1991)\n",
    "     Group 7:  31 instances (June 1991)\n",
    "     Group 8:  86 instances (November 1991)\n",
    "     -----------------------------------------\n",
    "     Total:   699 points (as of the donated datbase on 15 July 1992)\n",
    "\n",
    "   Note that the results summarized above in Past Usage refer to a dataset\n",
    "   of size 369, while Group 1 has only 367 instances.  This is because it\n",
    "   originally contained 369 instances; 2 were removed.  The following\n",
    "   statements summarizes changes to the original Group 1's set of data:\n",
    "\n",
    "   #####  Group 1 : 367 points: 200B 167M (January 1989)\n",
    "   #####  Revised Jan 10, 1991: Replaced zero bare nuclei in 1080185 & 1187805\n",
    "   #####  Revised Nov 22,1991: Removed 765878,4,5,9,7,10,10,10,3,8,1 no record\n",
    "   #####                  : Removed 484201,2,7,8,8,4,3,10,3,4,1 zero epithelial\n",
    "   #####                  : Changed 0 to 1 in field 6 of sample 1219406\n",
    "   #####                  : Changed 0 to 1 in field 8 of following sample:\n",
    "   #####                  : 1182404,2,3,1,1,1,2,0,1,1,1\n",
    "\n",
    "5. Number of Instances: 699 (as of 15 July 1992)\n",
    "\n",
    "6. Number of Attributes: 10 plus the class attribute\n",
    "\n",
    "7. Attribute Information: (class attribute has been moved to last column)\n",
    "\n",
    "   #  Attribute                     Domain\n",
    "   -- -----------------------------------------\n",
    "   1. Sample code number            id number\n",
    "   2. Clump Thickness               1 - 10\n",
    "   3. Uniformity of Cell Size       1 - 10\n",
    "   4. Uniformity of Cell Shape      1 - 10\n",
    "   5. Marginal Adhesion             1 - 10\n",
    "   6. Single Epithelial Cell Size   1 - 10\n",
    "   7. Bare Nuclei                   1 - 10\n",
    "   8. Bland Chromatin               1 - 10\n",
    "   9. Normal Nucleoli               1 - 10\n",
    "  10. Mitoses                       1 - 10\n",
    "  11. Class:                        (2 for benign, 4 for malignant)\n",
    "\n",
    "8. Missing attribute values: 16\n",
    "\n",
    "   There are 16 instances in Groups 1 to 6 that contain a single missing \n",
    "   (i.e., unavailable) attribute value, now denoted by \"?\".  \n",
    "\n",
    "9. Class distribution:\n",
    " \n",
    "   Benign: 458 (65.5%)\n",
    "   Malignant: 241 (34.5%)\n"
   ]
  },
  {
   "cell_type": "code",
   "execution_count": 1050,
   "metadata": {},
   "outputs": [],
   "source": [
    "Names = [\"ID \",\"Grosor del tumor\",\"Uniformidad tamaño\",\n",
    "            \"forma celula\",\"Adhesion marginal\",\"Tamaño celula epitelial\",\n",
    "            \"Nucleos desnudos\",\"Cromatina blanda\",\"Núcleolos normales\",\n",
    "           \"Mitosis de celulas\",\"Clase\"]\n",
    "df1 = pd.read_csv(\"breast-cancer-wisconsin.data\",names =Names)\n",
    "df1.head()\n",
    "data = df1.to_numpy()"
   ]
  },
  {
   "cell_type": "markdown",
   "metadata": {},
   "source": [
    "Se trabaja con arreglos de numpy para alguno calculos numéricos , luego se cambia el orden de los datos. En principio se entrena un clasificador sin los datos faltantes para tenerlo como referencia y ver si queda bien hecho el clasificador sto se hace identificando los datos inexistentes, utilizando la función *where* que retorna la columna y el indice en donde  existe un dato identificado como \"?\", que se debe rellenar antes de poder calcular los estimadores del clasificador bayesiano ingenuo "
   ]
  },
  {
   "cell_type": "code",
   "execution_count": 1051,
   "metadata": {},
   "outputs": [],
   "source": [
    "data = np.random.permutation(data)\n",
    "index = np.where(data == \"?\")\n",
    "data_ref = np.delete(data,index,axis=0)\n",
    "\n",
    "x_train = data_ref[0:int(len(data_ref)*0.7)]  #70% entrenamiento\n",
    "x_val = data_ref[int(len(data_ref)*0.7)-1:-1] #30% validacion\n",
    "x_val = x_val.astype(np.float)\n",
    "\n",
    "# correcion de tipo de datos en la 6 columna para trabajar con float\n",
    "x_val[:,6] = x_val[:,6].astype(np.float) "
   ]
  },
  {
   "cell_type": "markdown",
   "metadata": {},
   "source": [
    "Lo que se hace ahora es clasificar en dos grupos de datos, los pertenecientes al grupo Beningno que se identifican con el valor \"2\" y otro del grupo Maligno identificado con el \"4\". Esto con el fin de calcular los estimadores correspondientes a cada clase de cada atributo.\n",
    "\n"
   ]
  },
  {
   "cell_type": "code",
   "execution_count": 1052,
   "metadata": {},
   "outputs": [
    {
     "name": "stdout",
     "output_type": "stream",
     "text": [
      "Numero de Tumores Beningnos = 170\n",
      "Numero de Tumores Malignos  = 307\n",
      "Numero datos totales entrenamiento = 477\n"
     ]
    }
   ],
   "source": [
    "Benigno = x_train[x_train[:,-1]==4]\n",
    "Benigno[:,6] = Benigno[:,6].astype(np.float) \n",
    "\n",
    "Maligno = x_train[x_train[:,-1]==2]\n",
    "Maligno[:,6] = Maligno[:,6].astype(np.float) \n",
    "\n",
    "NB_ref = len(Benigno)\n",
    "NM_ref = len(Maligno)\n",
    "NT = NB_ref + NM_ref\n",
    "\n",
    "\n",
    "print(\"Numero de Tumores Beningnos = {}\".format(NB_ref))\n",
    "print(\"Numero de Tumores Malignos  = {}\".format(NM_ref))\n",
    "print(\"Numero datos totales entrenamiento = {}\".format(NT))\n"
   ]
  },
  {
   "cell_type": "markdown",
   "metadata": {},
   "source": [
    "En este caso vamos a muestrear nuestros valores pertenecientes a cada atributo asumiendo que siguen una distribución normal dada por \n",
    "\n",
    "$$\\mathcal{N}(\\vec{x}|\\mu,\\sigma^{2})=\\frac{1}{(2\\pi\\sigma)^{1/2}}e^{-\\frac{1}{2\\sigma^{2}}(x-\\mu)^{2}}$$\n",
    "\n",
    "Suponemos que el conjunto de observaciones de los atributos de las variables se distribuyen de manera uniforme y son independientes entre si. Vemos que la probabilidad conjunta de dos eventos independientes está dada por el producto de las probabilidades marginales para cada evento por separa, esto se representa de la siguiente \n",
    "\n",
    "$$P(\\vec{x}|\\mu,\\sigma^{2}) = \\prod_{n=1}^{N}\\mathcal{N}(x_{n}|\\mu,\\sigma_{2})$$\n",
    "\n",
    "luego los clasificadores se calculan de la siguiente manera \n",
    "\n",
    "$$C= \\underset{C\\in\\{Spam,NoSpam\\}}{\\mathrm{ArgMax}} \\left[ P(C)\\prod_{n=1}^{N}\\mathcal{N}(x_{n}|\\mu,\\sigma_{2})\\right] $$\n",
    "\n",
    "Utilizando el estimador de máxima verosimilitud los parámetros de la distribución son el promedio y la varianza, dadas por \n",
    "\n",
    "$$\\hat{\\mu}_{EMV} = \\frac{1}{n}\\sum_{i=1}^{n}x^{(i)}\\qquad \\hat{\\sigma}^{2}_{EMV} = \\frac{1}{n}(x^{(i)}-\\hat{\\mu}_{EMV})^{2}$$\n",
    "\n",
    "Entonces podemos calcular estos parámetros de la siguiente forma"
   ]
  },
  {
   "cell_type": "code",
   "execution_count": 1053,
   "metadata": {},
   "outputs": [],
   "source": [
    "#Calculo de los parámetros de cada clase\n",
    "\n",
    "muM = [np.mean(Maligno[:,1:-1][:,i]) for i in range(np.shape(Maligno[:,1:-1])[1])]\n",
    "muM = np.array(muM)\n",
    "stdM = [np.std(Maligno[:,1:-1][:,i]) for i in range(np.shape(Maligno[:,1:-1])[1])]\n",
    "stdM = np.array(std)\n",
    "\n",
    "muB = [np.mean(Benigno[:,1:-1][:,i]) for i in range(np.shape(Benigno[:,1:-1])[1])]\n",
    "muB = np.array(muB)\n",
    "stdB = [np.std(Benigno[:,1:-1][:,i]) for i in range(np.shape(Benigno[:,1:-1])[1])]\n",
    "stdB = np.array(stdB)"
   ]
  },
  {
   "cell_type": "markdown",
   "metadata": {},
   "source": [
    "Estos son los parámetros obtenidos para cada atributo de cada grupo de datos "
   ]
  },
  {
   "cell_type": "code",
   "execution_count": 1054,
   "metadata": {},
   "outputs": [
    {
     "name": "stdout",
     "output_type": "stream",
     "text": [
      "promedio Beningno =[7.15 6.68 6.59 5.75 5.41 7.66 6.06 5.96 2.54]\n",
      "promedio Maligno  =[2.93 1.29 1.40 1.37 2.14 1.38 2.12 1.28 1.07]\n",
      "desviacion Beningno =[2.45 2.77 2.66 3.24 2.42 3.11 2.28 3.28 2.50]\n",
      "desviacion Maligno  =[2.44 2.70 2.61 3.21 2.44 3.06 2.27 3.38 2.57]\n"
     ]
    }
   ],
   "source": [
    "# promedio\n",
    "print(\"promedio Beningno ={}\".format(muB))\n",
    "print(\"promedio Maligno  ={}\".format(muM))\n",
    "\n",
    "# desviacion estandar\n",
    "\n",
    "print(\"desviacion Beningno ={}\".format(stdB))\n",
    "print(\"desviacion Maligno  ={}\".format(stdM))\n",
    "\n",
    "\n"
   ]
  },
  {
   "cell_type": "markdown",
   "metadata": {},
   "source": [
    "Ahora se construye una funcion que calcule las constante para cada clase y nos entregue la predicción, por tanto se tiene"
   ]
  },
  {
   "cell_type": "code",
   "execution_count": 1055,
   "metadata": {},
   "outputs": [],
   "source": [
    "def MVE(x):\n",
    "    id_muestra = x[0]\n",
    "    x = x[1:-1]\n",
    "    CB = (NB_ref/NT)*np.prod(N(x,muB,stdB))\n",
    "    CM = (NM_ref/NT)*np.prod(N(x,muM,stdM))\n",
    "    clases={CM:4.0,CB:2.0}\n",
    "    return id_muestra, clases[max(CB,CM)] "
   ]
  },
  {
   "cell_type": "markdown",
   "metadata": {},
   "source": [
    "Ahora vamos a ver una predicción utilizando el conjunto de datos de validación, contando los aciertos de cada uno de los datos que proporciona el conjunto de validación y contrastando con el obtenido por el modelo "
   ]
  },
  {
   "cell_type": "code",
   "execution_count": 1056,
   "metadata": {},
   "outputs": [],
   "source": [
    "def rend(x_val):\n",
    "    val = np.array([MVE(x_val[i]) for i in range(len(x_val))])\n",
    "    y = val[:,-1]  == x_val[:,-1]\n",
    "    return sum(y)/len(x_val)"
   ]
  },
  {
   "cell_type": "code",
   "execution_count": 1063,
   "metadata": {},
   "outputs": [
    {
     "name": "stdout",
     "output_type": "stream",
     "text": [
      "Rendimiento del clasificador = 0.9804878048780488\n"
     ]
    }
   ],
   "source": [
    "print(\"Rendimiento del clasificador = {}\".format(rend(x_val)))"
   ]
  },
  {
   "cell_type": "markdown",
   "metadata": {},
   "source": [
    "Este fue el modelo entrenado para el conjunto de datos que no incluye los datos que contenían \"?\", ahora se buscan propuestas para rellenar los datos faltanes tratando de obtener el mayor rendimiento segun la funcion construida anteriormente. \n",
    "\n",
    "Para esto debemos hacer que haga muchas pruebas en los 16 datos y asi elegir el valor que mas rendimiento de en el clasificador. Se construyen las funciones"
   ]
  },
  {
   "cell_type": "code",
   "execution_count": 1075,
   "metadata": {},
   "outputs": [
    {
     "name": "stdout",
     "output_type": "stream",
     "text": [
      "0.9804878048780488\n",
      "[0 2 6 7 1 4 7 1 8 6 6 9 4 3 4 6]\n"
     ]
    }
   ],
   "source": [
    "def entrenamiento(data,comb):\n",
    "    data = np.random.permutation(data)\n",
    "    index = np.where(data == \"?\")\n",
    "    data[index] = comb\n",
    "\n",
    "\n",
    "    x_train = data[0:int(len(data)*0.7)]  #70% entrenamiento\n",
    "    x_val = data[int(len(data)*0.7)-1:-1] #30% validacion\n",
    "    x_val[:,6] = x_val[:,6].astype(np.float) \n",
    "\n",
    "\n",
    "    Benigno = x_train[x_train[:,-1]==4]\n",
    "    Benigno[:,6] = Benigno[:,6].astype(np.float) \n",
    "\n",
    "    Maligno = x_train[x_train[:,-1]==2]\n",
    "    Maligno[:,6] = Maligno[:,6].astype(np.float) \n",
    "\n",
    "    NB_ref = len(Benigno)\n",
    "    NM_ref = len(Maligno)\n",
    "    NT = NB_ref + NM_ref\n",
    "\n",
    "    muM = [np.mean(Maligno[:,1:-1][:,i]) for i in range(np.shape(Maligno[:,1:-1])[1])]\n",
    "    muM = np.array(muM)\n",
    "    stdM = [np.std(Maligno[:,1:-1][:,i]) for i in range(np.shape(Maligno[:,1:-1])[1])]\n",
    "    stdM = np.array(std)\n",
    "\n",
    "    muB = [np.mean(Benigno[:,1:-1][:,i]) for i in range(np.shape(Benigno[:,1:-1])[1])]\n",
    "    muB = np.array(muB)\n",
    "    stdB = [np.std(Benigno[:,1:-1][:,i]) for i in range(np.shape(Benigno[:,1:-1])[1])]\n",
    "    stdB = np.array(stdB)\n",
    "    \n",
    "    return muM,muB,stdM,stdB\n",
    "\n",
    "comb = np.random.randint(10,size=16)\n",
    "muM,muB,stdM,stdB = entrenamiento(data,comb)\n",
    "print(rend(x_val))\n",
    "print(comb)"
   ]
  },
  {
   "cell_type": "markdown",
   "metadata": {},
   "source": [
    "Con un vector de prueba se calcula el rendimiento, hagamos esto varias veces y elijamos el que tenga el mayor valor o el rendimiento "
   ]
  },
  {
   "cell_type": "code",
   "execution_count": 1081,
   "metadata": {},
   "outputs": [],
   "source": [
    "Rend = []; Comb = []\n",
    "for _ in range(10000):\n",
    "    comb = np.random.randint(10, size=16)\n",
    "    muM,muB,stdM,stdB = entrenamiento(data,comb)\n",
    "    Rend.append(rend(x_val))\n",
    "    Comb.append(comb)\n",
    "    "
   ]
  },
  {
   "cell_type": "code",
   "execution_count": 1084,
   "metadata": {},
   "outputs": [
    {
     "data": {
      "text/plain": [
       "Text(0, 0.5, 'Redimiento')"
      ]
     },
     "execution_count": 1084,
     "metadata": {},
     "output_type": "execute_result"
    },
    {
     "data": {
      "image/png": "[encoded data removed]",
      "text/plain": [
       "<Figure size 432x288 with 1 Axes>"
      ]
     },
     "metadata": {
      "needs_background": "light"
     },
     "output_type": "display_data"
    }
   ],
   "source": [
    "plt.plot(Rend,\"r.\")\n",
    "plt.grid(True)\n",
    "plt.title(\"Valores del modelo\")\n",
    "plt.xlabel(\"Combinaciones\")\n",
    "plt.ylabel(\"Redimiento\")"
   ]
  },
  {
   "cell_type": "code",
   "execution_count": 1088,
   "metadata": {},
   "outputs": [
    {
     "name": "stdout",
     "output_type": "stream",
     "text": [
      "Redimiento maximo = 0.9853658536585366\n",
      "Combinación utilizada [3 4 2 2 4 1 2 2 0 3 3 1 8 8 3 9] \n"
     ]
    }
   ],
   "source": [
    "print(\"Redimiento maximo = {}\".format(Rend[np.argmax(Rend)]))\n",
    "print(\"Combinación utilizada {} \".format(Comb[np.argmax(Rend)]))"
   ]
  }
 ],
 "metadata": {
  "kernelspec": {
   "display_name": "Python 3",
   "language": "python",
   "name": "python3"
  },
  "language_info": {
   "codemirror_mode": {
    "name": "ipython",
    "version": 3
   },
   "file_extension": ".py",
   "mimetype": "text/x-python",
   "name": "python",
   "nbconvert_exporter": "python",
   "pygments_lexer": "ipython3",
   "version": "3.7.4"
  }
 },
 "nbformat": 4,
 "nbformat_minor": 4
}
