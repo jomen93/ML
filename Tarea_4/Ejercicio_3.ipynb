{
 "cells": [
  {
   "cell_type": "code",
   "execution_count": 1,
   "metadata": {},
   "outputs": [],
   "source": [
    "try:\n",
    "    import pgmpy\n",
    "except:\n",
    "    !pip install pgmpy\n",
    "      \n",
    "from pgmpy.models import BayesianModel\n",
    "from pgmpy.factors.discrete import TabularCPD\n",
    "from pgmpy.inference import VariableElimination\n"
   ]
  },
  {
   "cell_type": "markdown",
   "metadata": {},
   "source": [
    ". Si un paciente es llevado al doctor $(D = verdadero)$, usando un paquete de software calcula la probabilidad de que no tenga ébola $P(E = f also|D = verdadero)$."
   ]
  },
  {
   "cell_type": "code",
   "execution_count": 2,
   "metadata": {},
   "outputs": [
    {
     "data": {
      "text/plain": [
       "True"
      ]
     },
     "execution_count": 2,
     "metadata": {},
     "output_type": "execute_result"
    }
   ],
   "source": [
    "# definicion del modelo \n",
    "model = BayesianModel([(\"E\",\"F\"),\n",
    "                       (\"E\",\"S\"),\n",
    "                       (\"F\",\"V\"),\n",
    "                       (\"S\",\"V\"),\n",
    "                       (\"V\",\"D\"),\n",
    "                       (\"S\",\"C\")])\n",
    "\n",
    "E = TabularCPD(variable=\"E\", variable_card = 2, \n",
    "               values=[[0.99],[0.01]])\n",
    "\n",
    "F = TabularCPD(variable='F', variable_card=2,\n",
    "               values=[[0.9, 0.2],\n",
    "                       [0.1, 0.8]],\n",
    "                     evidence=['E'],\n",
    "                     evidence_card=[2])\n",
    "\n",
    "S = TabularCPD(variable='S', variable_card=2,\n",
    "               values=[[0.95, 0.2],\n",
    "                       [0.05, 0.8]],\n",
    "                     evidence=['E'],\n",
    "                     evidence_card=[2])\n",
    "\n",
    "V = TabularCPD(variable='V', variable_card=2,\n",
    "               values=[[1.0, 0.3,0.5,0.2],\n",
    "                       [0.0, 0.7,0.5,0.8]],\n",
    "                     evidence=['F','S'],\n",
    "                     evidence_card=[2,2])\n",
    "\n",
    "D = TabularCPD(variable='D', variable_card=2,\n",
    "               values=[[1.0, 0.4],\n",
    "                       [0.0, 0.6]],\n",
    "                     evidence=['V'],\n",
    "                     evidence_card=[2])\n",
    "\n",
    "C = TabularCPD(variable='C', variable_card=2,\n",
    "               values=[[0.9, 0.25],\n",
    "                       [0.1, 0.75]],\n",
    "                     evidence=['S'],\n",
    "                     evidence_card=[2])\n",
    "\n",
    "\n",
    "\n",
    "\n",
    "\n",
    "model.add_cpds(E,F,S,V,D,C)\n",
    "model.check_model()"
   ]
  },
  {
   "cell_type": "code",
   "execution_count": 3,
   "metadata": {},
   "outputs": [
    {
     "name": "stderr",
     "output_type": "stream",
     "text": [
      "Finding Elimination Order: : 100%|██████████| 4/4 [00:00<00:00, 1582.91it/s]\n",
      "Eliminating: C: 100%|██████████| 4/4 [00:00<00:00, 187.01it/s]"
     ]
    },
    {
     "name": "stdout",
     "output_type": "stream",
     "text": [
      "+------+----------+\n",
      "| E    |   phi(E) |\n",
      "+======+==========+\n",
      "| E(0) |   0.9211 |\n",
      "+------+----------+\n",
      "| E(1) |   0.0789 |\n",
      "+------+----------+\n"
     ]
    },
    {
     "name": "stderr",
     "output_type": "stream",
     "text": [
      "\n"
     ]
    }
   ],
   "source": [
    "model_1 = VariableElimination(model)\n",
    "\n",
    "print(model_1.query(variables=[\"E\"], evidence={\"D\":1}))"
   ]
  },
  {
   "cell_type": "code",
   "execution_count": 4,
   "metadata": {},
   "outputs": [
    {
     "name": "stderr",
     "output_type": "stream",
     "text": [
      "Finding Elimination Order: : 100%|██████████| 4/4 [00:00<00:00, 801.13it/s]\n",
      "Eliminating: S: 100%|██████████| 4/4 [00:00<00:00, 199.31it/s]"
     ]
    },
    {
     "name": "stdout",
     "output_type": "stream",
     "text": [
      "+------+----------+\n",
      "| C    |   phi(C) |\n",
      "+======+==========+\n",
      "| C(0) |   0.5985 |\n",
      "+------+----------+\n",
      "| C(1) |   0.4015 |\n",
      "+------+----------+\n"
     ]
    },
    {
     "name": "stderr",
     "output_type": "stream",
     "text": [
      "\n"
     ]
    }
   ],
   "source": [
    "print(model_1.query(variables=[\"C\"],evidence={\"V\":1}))"
   ]
  },
  {
   "cell_type": "code",
   "execution_count": 5,
   "metadata": {},
   "outputs": [
    {
     "name": "stderr",
     "output_type": "stream",
     "text": [
      "Finding Elimination Order: : 100%|██████████| 4/4 [00:00<00:00, 1101.37it/s]\n",
      "Eliminating: S: 100%|██████████| 4/4 [00:00<00:00, 248.79it/s]"
     ]
    },
    {
     "name": "stdout",
     "output_type": "stream",
     "text": [
      "+------+----------+\n",
      "| V    |   phi(V) |\n",
      "+======+==========+\n",
      "| V(0) |   0.2960 |\n",
      "+------+----------+\n",
      "| V(1) |   0.7040 |\n",
      "+------+----------+\n"
     ]
    },
    {
     "name": "stderr",
     "output_type": "stream",
     "text": [
      "\n"
     ]
    }
   ],
   "source": [
    "print(model_1.query(variables=[\"V\"],evidence={\"E\":1}))"
   ]
  },
  {
   "cell_type": "code",
   "execution_count": 9,
   "metadata": {},
   "outputs": [
    {
     "data": {
      "text/plain": [
       "(E _|_ C | S)\n",
       "(E _|_ D | V)\n",
       "(E _|_ C, V, D | F, S)\n",
       "(E _|_ D | F, V)\n",
       "(E _|_ C, D | S, V)\n",
       "(E _|_ C | S, D)\n",
       "(E _|_ D | C, V)\n",
       "(E _|_ V, D | C, F, S)\n",
       "(E _|_ C, D | F, S, V)\n",
       "(E _|_ C, V | F, S, D)\n",
       "(E _|_ D | F, C, V)\n",
       "(E _|_ D | C, S, V)\n",
       "(E _|_ C | S, V, D)\n",
       "(E _|_ D | C, F, S, V)\n",
       "(E _|_ V | C, F, S, D)\n",
       "(E _|_ C | F, S, V, D)\n",
       "(F _|_ C | S)\n",
       "(F _|_ D | V)\n",
       "(F _|_ S, C | E)\n",
       "(F _|_ C, D | S, V)\n",
       "(F _|_ C | E, S)\n",
       "(F _|_ C | S, D)\n",
       "(F _|_ D | C, V)\n",
       "(F _|_ S | E, C)\n",
       "(F _|_ D | E, V)\n",
       "(F _|_ D | C, S, V)\n",
       "(F _|_ C, D | E, S, V)\n",
       "(F _|_ C | S, V, D)\n",
       "(F _|_ C | E, S, D)\n",
       "(F _|_ D | E, C, V)\n",
       "(F _|_ D | E, C, S, V)\n",
       "(F _|_ C | E, S, V, D)\n",
       "(S _|_ D | V)\n",
       "(S _|_ F | E)\n",
       "(S _|_ D | F, V)\n",
       "(S _|_ D | C, V)\n",
       "(S _|_ F | E, C)\n",
       "(S _|_ D | E, V)\n",
       "(S _|_ D | F, C, V)\n",
       "(S _|_ D | E, F, V)\n",
       "(S _|_ D | E, C, V)\n",
       "(S _|_ D | E, F, C, V)\n",
       "(V _|_ C | S)\n",
       "(V _|_ E, C | F, S)\n",
       "(V _|_ C | E, S)\n",
       "(V _|_ C | S, D)\n",
       "(V _|_ E | C, F, S)\n",
       "(V _|_ C | E, F, S)\n",
       "(V _|_ E, C | F, S, D)\n",
       "(V _|_ C | E, S, D)\n",
       "(V _|_ E | C, F, S, D)\n",
       "(V _|_ C | E, F, S, D)\n",
       "(D _|_ C | S)\n",
       "(D _|_ S, E, F, C | V)\n",
       "(D _|_ E, C | F, S)\n",
       "(D _|_ S, E, C | F, V)\n",
       "(D _|_ E, F, C | S, V)\n",
       "(D _|_ C | E, S)\n",
       "(D _|_ E, F, S | C, V)\n",
       "(D _|_ S, F, C | E, V)\n",
       "(D _|_ E | C, F, S)\n",
       "(D _|_ E, C | F, S, V)\n",
       "(D _|_ C | E, F, S)\n",
       "(D _|_ E, S | F, C, V)\n",
       "(D _|_ S, C | E, F, V)\n",
       "(D _|_ E, F | C, S, V)\n",
       "(D _|_ F, C | E, S, V)\n",
       "(D _|_ F, S | E, C, V)\n",
       "(D _|_ E | C, F, S, V)\n",
       "(D _|_ C | E, F, S, V)\n",
       "(D _|_ S | E, F, C, V)\n",
       "(D _|_ F | E, C, S, V)\n",
       "(C _|_ E, F, V, D | S)\n",
       "(C _|_ D | V)\n",
       "(C _|_ F | E)\n",
       "(C _|_ E, V, D | F, S)\n",
       "(C _|_ D | F, V)\n",
       "(C _|_ E, F, D | S, V)\n",
       "(C _|_ F, V, D | E, S)\n",
       "(C _|_ E, F, V | S, D)\n",
       "(C _|_ D | E, V)\n",
       "(C _|_ E, D | F, S, V)\n",
       "(C _|_ V, D | E, F, S)\n",
       "(C _|_ E, V | F, S, D)\n",
       "(C _|_ D | E, F, V)\n",
       "(C _|_ F, D | E, S, V)\n",
       "(C _|_ E, F | S, V, D)\n",
       "(C _|_ F, V | E, S, D)\n",
       "(C _|_ D | E, F, S, V)\n",
       "(C _|_ E | F, S, V, D)\n",
       "(C _|_ V | E, F, S, D)\n",
       "(C _|_ F | E, S, V, D)"
      ]
     },
     "execution_count": 9,
     "metadata": {},
     "output_type": "execute_result"
    }
   ],
   "source": [
    "model.get_independencies()\n"
   ]
  },
  {
   "cell_type": "code",
   "execution_count": null,
   "metadata": {},
   "outputs": [],
   "source": []
  }
 ],
 "metadata": {
  "kernelspec": {
   "display_name": "Python 3",
   "language": "python",
   "name": "python3"
  },
  "language_info": {
   "codemirror_mode": {
    "name": "ipython",
    "version": 3
   },
   "file_extension": ".py",
   "mimetype": "text/x-python",
   "name": "python",
   "nbconvert_exporter": "python",
   "pygments_lexer": "ipython3",
   "version": "3.7.4"
  }
 },
 "nbformat": 4,
 "nbformat_minor": 4
}
