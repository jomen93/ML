{
 "cells": [
  {
   "cell_type": "code",
   "execution_count": 22,
   "metadata": {},
   "outputs": [],
   "source": [
    "try:\n",
    "    import pgmpy\n",
    "except:\n",
    "    !pip install pgmpy\n",
    "      \n",
    "from pgmpy.models import BayesianModel\n",
    "from pgmpy.factors.discrete import TabularCPD\n",
    "from pgmpy.inference import VariableElimination\n"
   ]
  },
  {
   "cell_type": "markdown",
   "metadata": {},
   "source": [
    ". Si un paciente es llevado al doctor $(D = verdadero)$, usando un paquete de software calcula la probabilidad de que no tenga ébola $P(E = f also|D = verdadero)$."
   ]
  },
  {
   "cell_type": "code",
   "execution_count": 67,
   "metadata": {},
   "outputs": [
    {
     "data": {
      "text/plain": [
       "True"
      ]
     },
     "execution_count": 67,
     "metadata": {},
     "output_type": "execute_result"
    }
   ],
   "source": [
    "# definicion del modelo \n",
    "model = BayesianModel([(\"E\",\"F\"),\n",
    "                       (\"E\",\"S\"),\n",
    "                       (\"F\",\"V\"),\n",
    "                       (\"S\",\"V\"),\n",
    "                       (\"V\",\"D\"),\n",
    "                       (\"S\",\"C\")])\n",
    "\n",
    "E = TabularCPD(variable=\"E\", variable_card = 2, \n",
    "               values=[[0.99],[0.01]])\n",
    "\n",
    "F = TabularCPD(variable='F', variable_card=2,\n",
    "               values=[[0.9, 0.2],\n",
    "                       [0.1, 0.8]],\n",
    "                     evidence=['E'],\n",
    "                     evidence_card=[2])\n",
    "\n",
    "S = TabularCPD(variable='S', variable_card=2,\n",
    "               values=[[0.95, 0.2],\n",
    "                       [0.05, 0.8]],\n",
    "                     evidence=['E'],\n",
    "                     evidence_card=[2])\n",
    "\n",
    "V = TabularCPD(variable='V', variable_card=2,\n",
    "               values=[[1.0, 0.3,0.5,0.2],\n",
    "                       [0.0, 0.7,0.5,0.8]],\n",
    "                     evidence=['F','S'],\n",
    "                     evidence_card=[2,2])\n",
    "\n",
    "D = TabularCPD(variable='D', variable_card=2,\n",
    "               values=[[1.0, 0.4],\n",
    "                       [0.0, 0.6]],\n",
    "                     evidence=['V'],\n",
    "                     evidence_card=[2])\n",
    "\n",
    "C = TabularCPD(variable='C', variable_card=2,\n",
    "               values=[[0.9, 0.25],\n",
    "                       [0.1, 0.75]],\n",
    "                     evidence=['S'],\n",
    "                     evidence_card=[2])\n",
    "\n",
    "\n",
    "\n",
    "\n",
    "\n",
    "model.add_cpds(E,F,S,V,D,C)\n",
    "model.check_model()"
   ]
  },
  {
   "cell_type": "code",
   "execution_count": 68,
   "metadata": {},
   "outputs": [
    {
     "name": "stderr",
     "output_type": "stream",
     "text": [
      "Finding Elimination Order: : 100%|██████████| 4/4 [00:00<00:00, 1257.38it/s]\n",
      "Eliminating: C: 100%|██████████| 4/4 [00:00<00:00, 169.91it/s]"
     ]
    },
    {
     "name": "stdout",
     "output_type": "stream",
     "text": [
      "+------+----------+\n",
      "| E    |   phi(E) |\n",
      "+======+==========+\n",
      "| E(0) |   0.9211 |\n",
      "+------+----------+\n",
      "| E(1) |   0.0789 |\n",
      "+------+----------+\n"
     ]
    },
    {
     "name": "stderr",
     "output_type": "stream",
     "text": [
      "\n"
     ]
    }
   ],
   "source": [
    "model = VariableElimination(model)\n",
    "\n",
    "print(model.query(variables=[\"E\"], evidence={\"D\":1}))"
   ]
  },
  {
   "cell_type": "code",
   "execution_count": null,
   "metadata": {},
   "outputs": [],
   "source": []
  }
 ],
 "metadata": {
  "kernelspec": {
   "display_name": "Python 3",
   "language": "python",
   "name": "python3"
  },
  "language_info": {
   "codemirror_mode": {
    "name": "ipython",
    "version": 3
   },
   "file_extension": ".py",
   "mimetype": "text/x-python",
   "name": "python",
   "nbconvert_exporter": "python",
   "pygments_lexer": "ipython3",
   "version": "3.7.4"
  }
 },
 "nbformat": 4,
 "nbformat_minor": 4
}
